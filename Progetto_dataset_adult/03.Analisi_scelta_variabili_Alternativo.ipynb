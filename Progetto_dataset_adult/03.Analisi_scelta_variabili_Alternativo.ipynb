{
 "cells": [
  {
   "cell_type": "code",
   "execution_count": 1,
   "id": "d421fca1",
   "metadata": {},
   "outputs": [
    {
     "name": "stdout",
     "output_type": "stream",
     "text": [
      "C:\\Users\\pasqu\\Progetto_dataset_adult\\Utils\n"
     ]
    }
   ],
   "source": [
    "%cd Utils"
   ]
  },
  {
   "cell_type": "markdown",
   "id": "77372a9d",
   "metadata": {},
   "source": [
    "*Importiamo le librerie necessarie*"
   ]
  },
  {
   "cell_type": "code",
   "execution_count": 2,
   "id": "e5538f0e",
   "metadata": {},
   "outputs": [],
   "source": [
    "#Librerie DS\n",
    "import pandas as pd\n",
    "from pandas.api.types import CategoricalDtype\n",
    "import numpy as np\n",
    "\n",
    "#Grafici\n",
    "import matplotlib.pyplot as plt \n",
    "import seaborn as sns \n",
    "\n",
    "#Librerie proprie\n",
    "from Import_e_info import *\n",
    "from Analisi_variabili import *\n"
   ]
  },
  {
   "cell_type": "markdown",
   "id": "5802d1ae",
   "metadata": {},
   "source": [
    "#### Importiamo il dataset\n",
    "Possiamo decidere di importare:\n",
    "* il dataset costruito con missing values proporzionali (02.Trattamento_dati_mancanti)   \n",
    "* il dataset che imputa la categoria disoccupati (02.Trattamento_dati_mancanti_alternativo)\n",
    "\n",
    " Noi scegliamo il secondo"
   ]
  },
  {
   "cell_type": "code",
   "execution_count": 3,
   "id": "0ffcbc60",
   "metadata": {},
   "outputs": [],
   "source": [
    "dataset = pd.read_csv(\"../Datasets/dataset_concat_disocc\")\n",
    "#dataset = pd.read_csv(\"../dataset_no_mv\")\n",
    "dataset.drop(dataset.columns[0],axis = 1, inplace = True)"
   ]
  },
  {
   "cell_type": "code",
   "execution_count": 4,
   "id": "bbd158d4",
   "metadata": {},
   "outputs": [
    {
     "data": {
      "text/html": [
       "<div>\n",
       "<style scoped>\n",
       "    .dataframe tbody tr th:only-of-type {\n",
       "        vertical-align: middle;\n",
       "    }\n",
       "\n",
       "    .dataframe tbody tr th {\n",
       "        vertical-align: top;\n",
       "    }\n",
       "\n",
       "    .dataframe thead th {\n",
       "        text-align: right;\n",
       "    }\n",
       "</style>\n",
       "<table border=\"1\" class=\"dataframe\">\n",
       "  <thead>\n",
       "    <tr style=\"text-align: right;\">\n",
       "      <th></th>\n",
       "      <th>Age</th>\n",
       "      <th>Tipo_lavoro</th>\n",
       "      <th>fnlwgt</th>\n",
       "      <th>Istruzione</th>\n",
       "      <th>Anni_istruzione</th>\n",
       "      <th>Stato_sociale</th>\n",
       "      <th>Condizione_familiare</th>\n",
       "      <th>Etnia</th>\n",
       "      <th>Genere</th>\n",
       "      <th>Cap_guadagnato</th>\n",
       "      <th>Cap_perso</th>\n",
       "      <th>Ore_settimanali</th>\n",
       "      <th>Reddito</th>\n",
       "      <th>Paese_Nativo_cat</th>\n",
       "    </tr>\n",
       "  </thead>\n",
       "  <tbody>\n",
       "    <tr>\n",
       "      <th>0</th>\n",
       "      <td>39</td>\n",
       "      <td>State-gov</td>\n",
       "      <td>77516</td>\n",
       "      <td>Bachelors</td>\n",
       "      <td>13</td>\n",
       "      <td>Never-married</td>\n",
       "      <td>Not-in-family</td>\n",
       "      <td>White</td>\n",
       "      <td>Male</td>\n",
       "      <td>2174</td>\n",
       "      <td>0</td>\n",
       "      <td>40</td>\n",
       "      <td>&lt;=50K</td>\n",
       "      <td>United-States</td>\n",
       "    </tr>\n",
       "    <tr>\n",
       "      <th>1</th>\n",
       "      <td>50</td>\n",
       "      <td>Self-emp-not-inc</td>\n",
       "      <td>83311</td>\n",
       "      <td>Bachelors</td>\n",
       "      <td>13</td>\n",
       "      <td>Married-civ-spouse</td>\n",
       "      <td>Husband</td>\n",
       "      <td>White</td>\n",
       "      <td>Male</td>\n",
       "      <td>0</td>\n",
       "      <td>0</td>\n",
       "      <td>13</td>\n",
       "      <td>&lt;=50K</td>\n",
       "      <td>United-States</td>\n",
       "    </tr>\n",
       "    <tr>\n",
       "      <th>2</th>\n",
       "      <td>38</td>\n",
       "      <td>Private</td>\n",
       "      <td>215646</td>\n",
       "      <td>HS-grad</td>\n",
       "      <td>9</td>\n",
       "      <td>Divorced</td>\n",
       "      <td>Not-in-family</td>\n",
       "      <td>White</td>\n",
       "      <td>Male</td>\n",
       "      <td>0</td>\n",
       "      <td>0</td>\n",
       "      <td>40</td>\n",
       "      <td>&lt;=50K</td>\n",
       "      <td>United-States</td>\n",
       "    </tr>\n",
       "    <tr>\n",
       "      <th>3</th>\n",
       "      <td>53</td>\n",
       "      <td>Private</td>\n",
       "      <td>234721</td>\n",
       "      <td>11th</td>\n",
       "      <td>7</td>\n",
       "      <td>Married-civ-spouse</td>\n",
       "      <td>Husband</td>\n",
       "      <td>Black</td>\n",
       "      <td>Male</td>\n",
       "      <td>0</td>\n",
       "      <td>0</td>\n",
       "      <td>40</td>\n",
       "      <td>&lt;=50K</td>\n",
       "      <td>United-States</td>\n",
       "    </tr>\n",
       "    <tr>\n",
       "      <th>4</th>\n",
       "      <td>28</td>\n",
       "      <td>Private</td>\n",
       "      <td>338409</td>\n",
       "      <td>Bachelors</td>\n",
       "      <td>13</td>\n",
       "      <td>Married-civ-spouse</td>\n",
       "      <td>Wife</td>\n",
       "      <td>Black</td>\n",
       "      <td>Female</td>\n",
       "      <td>0</td>\n",
       "      <td>0</td>\n",
       "      <td>40</td>\n",
       "      <td>&lt;=50K</td>\n",
       "      <td>No United-States</td>\n",
       "    </tr>\n",
       "    <tr>\n",
       "      <th>...</th>\n",
       "      <td>...</td>\n",
       "      <td>...</td>\n",
       "      <td>...</td>\n",
       "      <td>...</td>\n",
       "      <td>...</td>\n",
       "      <td>...</td>\n",
       "      <td>...</td>\n",
       "      <td>...</td>\n",
       "      <td>...</td>\n",
       "      <td>...</td>\n",
       "      <td>...</td>\n",
       "      <td>...</td>\n",
       "      <td>...</td>\n",
       "      <td>...</td>\n",
       "    </tr>\n",
       "    <tr>\n",
       "      <th>32556</th>\n",
       "      <td>27</td>\n",
       "      <td>Private</td>\n",
       "      <td>257302</td>\n",
       "      <td>Assoc-acdm</td>\n",
       "      <td>12</td>\n",
       "      <td>Married-civ-spouse</td>\n",
       "      <td>Wife</td>\n",
       "      <td>White</td>\n",
       "      <td>Female</td>\n",
       "      <td>0</td>\n",
       "      <td>0</td>\n",
       "      <td>38</td>\n",
       "      <td>&lt;=50K</td>\n",
       "      <td>United-States</td>\n",
       "    </tr>\n",
       "    <tr>\n",
       "      <th>32557</th>\n",
       "      <td>40</td>\n",
       "      <td>Private</td>\n",
       "      <td>154374</td>\n",
       "      <td>HS-grad</td>\n",
       "      <td>9</td>\n",
       "      <td>Married-civ-spouse</td>\n",
       "      <td>Husband</td>\n",
       "      <td>White</td>\n",
       "      <td>Male</td>\n",
       "      <td>0</td>\n",
       "      <td>0</td>\n",
       "      <td>40</td>\n",
       "      <td>&gt;50K</td>\n",
       "      <td>United-States</td>\n",
       "    </tr>\n",
       "    <tr>\n",
       "      <th>32558</th>\n",
       "      <td>58</td>\n",
       "      <td>Private</td>\n",
       "      <td>151910</td>\n",
       "      <td>HS-grad</td>\n",
       "      <td>9</td>\n",
       "      <td>Widowed</td>\n",
       "      <td>Unmarried</td>\n",
       "      <td>White</td>\n",
       "      <td>Female</td>\n",
       "      <td>0</td>\n",
       "      <td>0</td>\n",
       "      <td>40</td>\n",
       "      <td>&lt;=50K</td>\n",
       "      <td>United-States</td>\n",
       "    </tr>\n",
       "    <tr>\n",
       "      <th>32559</th>\n",
       "      <td>22</td>\n",
       "      <td>Private</td>\n",
       "      <td>201490</td>\n",
       "      <td>HS-grad</td>\n",
       "      <td>9</td>\n",
       "      <td>Never-married</td>\n",
       "      <td>Own-child</td>\n",
       "      <td>White</td>\n",
       "      <td>Male</td>\n",
       "      <td>0</td>\n",
       "      <td>0</td>\n",
       "      <td>20</td>\n",
       "      <td>&lt;=50K</td>\n",
       "      <td>United-States</td>\n",
       "    </tr>\n",
       "    <tr>\n",
       "      <th>32560</th>\n",
       "      <td>52</td>\n",
       "      <td>Self-emp-inc</td>\n",
       "      <td>287927</td>\n",
       "      <td>HS-grad</td>\n",
       "      <td>9</td>\n",
       "      <td>Married-civ-spouse</td>\n",
       "      <td>Wife</td>\n",
       "      <td>White</td>\n",
       "      <td>Female</td>\n",
       "      <td>15024</td>\n",
       "      <td>0</td>\n",
       "      <td>40</td>\n",
       "      <td>&gt;50K</td>\n",
       "      <td>United-States</td>\n",
       "    </tr>\n",
       "  </tbody>\n",
       "</table>\n",
       "<p>32561 rows × 14 columns</p>\n",
       "</div>"
      ],
      "text/plain": [
       "       Age        Tipo_lavoro  fnlwgt   Istruzione  Anni_istruzione  \\\n",
       "0       39          State-gov   77516    Bachelors               13   \n",
       "1       50   Self-emp-not-inc   83311    Bachelors               13   \n",
       "2       38            Private  215646      HS-grad                9   \n",
       "3       53            Private  234721         11th                7   \n",
       "4       28            Private  338409    Bachelors               13   \n",
       "...    ...                ...     ...          ...              ...   \n",
       "32556   27            Private  257302   Assoc-acdm               12   \n",
       "32557   40            Private  154374      HS-grad                9   \n",
       "32558   58            Private  151910      HS-grad                9   \n",
       "32559   22            Private  201490      HS-grad                9   \n",
       "32560   52       Self-emp-inc  287927      HS-grad                9   \n",
       "\n",
       "             Stato_sociale Condizione_familiare   Etnia   Genere  \\\n",
       "0            Never-married        Not-in-family   White     Male   \n",
       "1       Married-civ-spouse              Husband   White     Male   \n",
       "2                 Divorced        Not-in-family   White     Male   \n",
       "3       Married-civ-spouse              Husband   Black     Male   \n",
       "4       Married-civ-spouse                 Wife   Black   Female   \n",
       "...                    ...                  ...     ...      ...   \n",
       "32556   Married-civ-spouse                 Wife   White   Female   \n",
       "32557   Married-civ-spouse              Husband   White     Male   \n",
       "32558              Widowed            Unmarried   White   Female   \n",
       "32559        Never-married            Own-child   White     Male   \n",
       "32560   Married-civ-spouse                 Wife   White   Female   \n",
       "\n",
       "       Cap_guadagnato  Cap_perso  Ore_settimanali Reddito   Paese_Nativo_cat  \n",
       "0                2174          0               40   <=50K      United-States  \n",
       "1                   0          0               13   <=50K      United-States  \n",
       "2                   0          0               40   <=50K      United-States  \n",
       "3                   0          0               40   <=50K      United-States  \n",
       "4                   0          0               40   <=50K   No United-States  \n",
       "...               ...        ...              ...     ...                ...  \n",
       "32556               0          0               38   <=50K      United-States  \n",
       "32557               0          0               40    >50K      United-States  \n",
       "32558               0          0               40   <=50K      United-States  \n",
       "32559               0          0               20   <=50K      United-States  \n",
       "32560           15024          0               40    >50K      United-States  \n",
       "\n",
       "[32561 rows x 14 columns]"
      ]
     },
     "execution_count": 4,
     "metadata": {},
     "output_type": "execute_result"
    }
   ],
   "source": [
    "dataset"
   ]
  },
  {
   "cell_type": "markdown",
   "id": "55da9886",
   "metadata": {},
   "source": [
    "**Analisi descrittiva e selezione variabili**"
   ]
  },
  {
   "cell_type": "markdown",
   "id": "75003f7c",
   "metadata": {},
   "source": [
    "*Age*"
   ]
  },
  {
   "cell_type": "code",
   "execution_count": 5,
   "id": "e79a3de8",
   "metadata": {},
   "outputs": [
    {
     "name": "stderr",
     "output_type": "stream",
     "text": [
      "C:\\ProgramData\\Anaconda3\\lib\\site-packages\\seaborn\\_decorators.py:36: FutureWarning: Pass the following variable as a keyword arg: x. From version 0.12, the only valid positional argument will be `data`, and passing other arguments without an explicit keyword will result in an error or misinterpretation.\n",
      "  warnings.warn(\n"
     ]
    },
    {
     "data": {
      "image/png": "[encoded data removed]",
      "text/plain": [
       "<Figure size 1008x576 with 2 Axes>"
      ]
     },
     "metadata": {
      "needs_background": "light"
     },
     "output_type": "display_data"
    },
    {
     "data": {
      "text/plain": [
       "count    32561.000000\n",
       "mean        38.581647\n",
       "std         13.640433\n",
       "min         17.000000\n",
       "25%         28.000000\n",
       "50%         37.000000\n",
       "75%         48.000000\n",
       "max         90.000000\n",
       "Name: Age, dtype: float64"
      ]
     },
     "execution_count": 5,
     "metadata": {},
     "output_type": "execute_result"
    }
   ],
   "source": [
    "descrizione = plot_var_num(dataset,\"Age\") \n",
    "descrizione"
   ]
  },
  {
   "cell_type": "markdown",
   "id": "5307c597",
   "metadata": {},
   "source": [
    "* Si evince l'asimmetria della distribuzione, che ci suggerisce come la maggior parte del campione\n",
    "abbia un'età compresa tra i 30 e i 50 anni. \n",
    "* Dal boxplot, si nota la presenza di valori anomali Per coloro che hanno un'età maggiore agli 80 anni, testimonianza della bassa quantità di dati all'aumentare dell'età. \n",
    "* Proviamo ad osservare la distribuzione della stessa variabile in formato logaritmico"
   ]
  },
  {
   "cell_type": "code",
   "execution_count": 6,
   "id": "08966b7a",
   "metadata": {},
   "outputs": [],
   "source": [
    "dataset[\"Age_log\"] = np.log(dataset[\"Age\"])"
   ]
  },
  {
   "cell_type": "code",
   "execution_count": 7,
   "id": "328b292c",
   "metadata": {},
   "outputs": [
    {
     "name": "stderr",
     "output_type": "stream",
     "text": [
      "C:\\ProgramData\\Anaconda3\\lib\\site-packages\\seaborn\\_decorators.py:36: FutureWarning: Pass the following variable as a keyword arg: x. From version 0.12, the only valid positional argument will be `data`, and passing other arguments without an explicit keyword will result in an error or misinterpretation.\n",
      "  warnings.warn(\n"
     ]
    },
    {
     "data": {
      "image/png": "[encoded data removed]",
      "text/plain": [
       "<Figure size 1008x576 with 2 Axes>"
      ]
     },
     "metadata": {
      "needs_background": "light"
     },
     "output_type": "display_data"
    },
    {
     "data": {
      "text/plain": [
       "count    32561.000000\n",
       "mean         3.589360\n",
       "std          0.360379\n",
       "min          2.833213\n",
       "25%          3.332205\n",
       "50%          3.610918\n",
       "75%          3.871201\n",
       "max          4.499810\n",
       "Name: Age_log, dtype: float64"
      ]
     },
     "execution_count": 7,
     "metadata": {},
     "output_type": "execute_result"
    }
   ],
   "source": [
    "plot_var_num(dataset,\"Age_log\") "
   ]
  },
  {
   "cell_type": "markdown",
   "id": "812f16a8",
   "metadata": {},
   "source": [
    "* La trasformazione logaritmica rende la distribuzione maggiormente simmetrica, eliminando i valori anomali causati dalla natura del dataset"
   ]
  },
  {
   "cell_type": "markdown",
   "id": "6874a821",
   "metadata": {},
   "source": [
    "*Osserviamo se vi è dipendenza rispetto al target*\n"
   ]
  },
  {
   "cell_type": "code",
   "execution_count": 8,
   "id": "d9044a61",
   "metadata": {},
   "outputs": [
    {
     "data": {
      "text/html": [
       "<div>\n",
       "<style scoped>\n",
       "    .dataframe tbody tr th:only-of-type {\n",
       "        vertical-align: middle;\n",
       "    }\n",
       "\n",
       "    .dataframe tbody tr th {\n",
       "        vertical-align: top;\n",
       "    }\n",
       "\n",
       "    .dataframe thead th {\n",
       "        text-align: right;\n",
       "    }\n",
       "</style>\n",
       "<table border=\"1\" class=\"dataframe\">\n",
       "  <thead>\n",
       "    <tr style=\"text-align: right;\">\n",
       "      <th></th>\n",
       "      <th>correlation</th>\n",
       "      <th>p_value</th>\n",
       "      <th>sign_0.05</th>\n",
       "    </tr>\n",
       "  </thead>\n",
       "  <tbody>\n",
       "    <tr>\n",
       "      <th>Kendall</th>\n",
       "      <td>0.225235</td>\n",
       "      <td>0.0</td>\n",
       "      <td>True</td>\n",
       "    </tr>\n",
       "  </tbody>\n",
       "</table>\n",
       "</div>"
      ],
      "text/plain": [
       "         correlation  p_value  sign_0.05\n",
       "Kendall     0.225235      0.0       True"
      ]
     },
     "execution_count": 8,
     "metadata": {},
     "output_type": "execute_result"
    }
   ],
   "source": [
    " dipendenza_correlazione(dataset, \"Age_log\",\"Reddito\")"
   ]
  },
  {
   "cell_type": "markdown",
   "id": "06f27574",
   "metadata": {},
   "source": [
    "*Nonostante la correlazione abbastanza bassa, il p_value ci suggerisce di mantenere la variabile*"
   ]
  },
  {
   "cell_type": "markdown",
   "id": "3fc35c41",
   "metadata": {},
   "source": [
    "*Tipo_lavoro*"
   ]
  },
  {
   "cell_type": "code",
   "execution_count": 9,
   "id": "9a832ff4",
   "metadata": {},
   "outputs": [
    {
     "data": {
      "image/png": "[encoded data removed]",
      "text/plain": [
       "<Figure size 1080x1584 with 2 Axes>"
      ]
     },
     "metadata": {
      "needs_background": "light"
     },
     "output_type": "display_data"
    }
   ],
   "source": [
    "Tipo_lavoro, tabella_cont_tipo_lav = analisi_variabili_categoriche(dataset, \"Tipo_lavoro\",\"Reddito\")"
   ]
  },
  {
   "cell_type": "code",
   "execution_count": 10,
   "id": "382781d0",
   "metadata": {},
   "outputs": [
    {
     "data": {
      "text/plain": [
       " Private             0.697030\n",
       " Self-emp-not-inc    0.078038\n",
       " Local-gov           0.064279\n",
       " Non occupied        0.056386\n",
       " State-gov           0.039864\n",
       " Self-emp-inc        0.034274\n",
       " Federal-gov         0.029483\n",
       " Without-pay         0.000430\n",
       " Never-worked        0.000215\n",
       "Name: Tipo_lavoro, dtype: float64"
      ]
     },
     "execution_count": 10,
     "metadata": {},
     "output_type": "execute_result"
    }
   ],
   "source": [
    "Tipo_lavoro"
   ]
  },
  {
   "cell_type": "code",
   "execution_count": 11,
   "id": "677de5a5",
   "metadata": {},
   "outputs": [
    {
     "name": "stdout",
     "output_type": "stream",
     "text": [
      " <=50K    19977.530208\n",
      " >50K     12583.469792\n",
      "Name: Reddito, dtype: float64\n",
      " <=50K    23705.812789\n",
      " >50K      8855.187211\n",
      "Name: Reddito, dtype: float64\n",
      " <=50K    22962.272336\n",
      " >50K      9598.727664\n",
      "Name: Reddito, dtype: float64\n"
     ]
    }
   ],
   "source": [
    "if \" Non occupied\" in Tipo_lavoro.index :\n",
    "    print(dataset[dataset[\"Tipo_lavoro\"] == \" Federal-gov\"][\"Reddito\"].value_counts()/Tipo_lavoro[6])\n",
    "    print(dataset[dataset[\"Tipo_lavoro\"] == \" State-gov\"][\"Reddito\"].value_counts()/Tipo_lavoro[4])\n",
    "    print(dataset[dataset[\"Tipo_lavoro\"] == \" Local-gov\"][\"Reddito\"].value_counts()/Tipo_lavoro[2])\n",
    "else:\n",
    "    print(dataset[dataset[\"Tipo_lavoro\"] == \" Federal-gov\"][\"Reddito\"].value_counts()/Tipo_lavoro[5])\n",
    "    print(dataset[dataset[\"Tipo_lavoro\"] == \" State-gov\"][\"Reddito\"].value_counts()/Tipo_lavoro[3])\n",
    "    print(dataset[dataset[\"Tipo_lavoro\"] == \" Local-gov\"][\"Reddito\"].value_counts()/Tipo_lavoro[2])\n",
    "#Le ultime due hanno percentuali molto simili "
   ]
  },
  {
   "cell_type": "code",
   "execution_count": 12,
   "id": "76a3f8cb",
   "metadata": {
    "scrolled": true
   },
   "outputs": [
    {
     "name": "stdout",
     "output_type": "stream",
     "text": [
      " <=50K    23283.485636\n",
      " >50K      9277.514364\n",
      "Name: Reddito, dtype: float64\n",
      " >50K     18147.797491\n",
      " <=50K    14413.202509\n",
      "Name: Reddito, dtype: float64\n"
     ]
    }
   ],
   "source": [
    "if \" Non occupied\" in Tipo_lavoro.index :\n",
    "    print(dataset[dataset[\"Tipo_lavoro\"] == \" Self-emp-not-inc\"][\"Reddito\"].value_counts()/Tipo_lavoro[1])\n",
    "    print(dataset[dataset[\"Tipo_lavoro\"] == \" Self-emp-inc\"][\"Reddito\"].value_counts()/Tipo_lavoro[5])\n",
    "else:\n",
    "    print(dataset[dataset[\"Tipo_lavoro\"] == \" Self-emp-not-inc\"][\"Reddito\"].value_counts()/Tipo_lavoro[1])\n",
    "    print(dataset[dataset[\"Tipo_lavoro\"] == \" Self-emp-inc\"][\"Reddito\"].value_counts()/Tipo_lavoro[4])\n"
   ]
  },
  {
   "cell_type": "code",
   "execution_count": 13,
   "id": "0b0b6c51",
   "metadata": {},
   "outputs": [
    {
     "name": "stdout",
     "output_type": "stream",
     "text": [
      " <=50K    32561.0\n",
      "Name: Reddito, dtype: float64\n",
      " <=50K    32561.0\n",
      "Name: Reddito, dtype: float64\n"
     ]
    }
   ],
   "source": [
    "if \" Non occupied\" in Tipo_lavoro.index :\n",
    "    print(dataset[dataset[\"Tipo_lavoro\"] == \" Without-pay\"][\"Reddito\"].value_counts()/Tipo_lavoro[7])\n",
    "    print(dataset[dataset[\"Tipo_lavoro\"] == \" Never-worked\"][\"Reddito\"].value_counts()/Tipo_lavoro[8])\n",
    "else:\n",
    "    print(dataset[dataset[\"Tipo_lavoro\"] == \" Without-pay\"][\"Reddito\"].value_counts()/Tipo_lavoro[6])\n",
    "    print(dataset[dataset[\"Tipo_lavoro\"] == \" Never-worked\"][\"Reddito\"].value_counts()/Tipo_lavoro[7])"
   ]
  },
  {
   "cell_type": "markdown",
   "id": "9e8f12f0",
   "metadata": {},
   "source": [
    "*Dalle informazioni qui sopra si osserva come la maggior parte delle osservazioni appartengano alla categoria Private.* \n",
    "*Applichiamo delle trasformiazioni alle categorie. In particolare:*\n",
    "* *Unifichiamo le categorie \"Local-gov\",\"State-gov\"*  \n",
    "* *Unifichiamo le categorie \"without-pay\" e \"Never-worked\"*\n"
   ]
  },
  {
   "cell_type": "code",
   "execution_count": 14,
   "id": "d0752bf8",
   "metadata": {},
   "outputs": [],
   "source": [
    "dataset = unificazione_categorie(dataset, \"Tipo_lavoro\", [\" Local-gov\",\" State-gov\"], \" governative\")\n",
    "dataset = unificazione_categorie(dataset, \"Tipo_lavoro\", [\" Without-pay\",\" Never-worked\"], \" Non occupied\")"
   ]
  },
  {
   "cell_type": "code",
   "execution_count": 15,
   "id": "271f7835",
   "metadata": {},
   "outputs": [
    {
     "data": {
      "text/plain": [
       " Private             22696\n",
       " governative          3391\n",
       " Self-emp-not-inc     2541\n",
       " Non occupied         1857\n",
       " Self-emp-inc         1116\n",
       " Federal-gov           960\n",
       "Name: Tipo_lavoro, dtype: int64"
      ]
     },
     "execution_count": 15,
     "metadata": {},
     "output_type": "execute_result"
    }
   ],
   "source": [
    "dataset.Tipo_lavoro.value_counts()"
   ]
  },
  {
   "cell_type": "markdown",
   "id": "a835fa39",
   "metadata": {},
   "source": [
    "*Osserviamo l'associazione rispetto al target*"
   ]
  },
  {
   "cell_type": "code",
   "execution_count": 16,
   "id": "9bff2d93",
   "metadata": {},
   "outputs": [
    {
     "data": {
      "text/html": [
       "<div>\n",
       "<style scoped>\n",
       "    .dataframe tbody tr th:only-of-type {\n",
       "        vertical-align: middle;\n",
       "    }\n",
       "\n",
       "    .dataframe tbody tr th {\n",
       "        vertical-align: top;\n",
       "    }\n",
       "\n",
       "    .dataframe thead th {\n",
       "        text-align: right;\n",
       "    }\n",
       "</style>\n",
       "<table border=\"1\" class=\"dataframe\">\n",
       "  <thead>\n",
       "    <tr style=\"text-align: right;\">\n",
       "      <th></th>\n",
       "      <th>p_value</th>\n",
       "      <th>sign_0.05</th>\n",
       "    </tr>\n",
       "  </thead>\n",
       "  <tbody>\n",
       "    <tr>\n",
       "      <th>chi2</th>\n",
       "      <td>4.398929e-223</td>\n",
       "      <td>True</td>\n",
       "    </tr>\n",
       "  </tbody>\n",
       "</table>\n",
       "</div>"
      ],
      "text/plain": [
       "            p_value  sign_0.05\n",
       "chi2  4.398929e-223       True"
      ]
     },
     "execution_count": 16,
     "metadata": {},
     "output_type": "execute_result"
    }
   ],
   "source": [
    "dipendenza_correlazione(dataset, \"Reddito\",\"Tipo_lavoro\") #Significativo"
   ]
  },
  {
   "cell_type": "markdown",
   "id": "83fa2fcb",
   "metadata": {},
   "source": [
    "*fnlwgt* "
   ]
  },
  {
   "cell_type": "markdown",
   "id": "2a9cf0bf",
   "metadata": {},
   "source": [
    "*La variabile fnlwgt esprime il peso da attribuire a ciascuna osservazioni secondo parametri basate sulle variabili socio-demograficìhe. Siccome non sappiamo ulteriori informazioni, decidiamo di cancellare tale variabile*"
   ]
  },
  {
   "cell_type": "code",
   "execution_count": 17,
   "id": "f5251a24",
   "metadata": {},
   "outputs": [],
   "source": [
    "dataset.drop(\"fnlwgt\",axis = 1, inplace = True)"
   ]
  },
  {
   "cell_type": "markdown",
   "id": "b38e94c9",
   "metadata": {},
   "source": [
    "*Istruzione e Anni_istruzione*"
   ]
  },
  {
   "cell_type": "code",
   "execution_count": 18,
   "id": "b0709ccb",
   "metadata": {},
   "outputs": [
    {
     "data": {
      "text/plain": [
       " HS-grad         10501\n",
       " Some-college     7291\n",
       " Bachelors        5355\n",
       " Masters          1723\n",
       " Assoc-voc        1382\n",
       " 11th             1175\n",
       " Assoc-acdm       1067\n",
       " 10th              933\n",
       " 7th-8th           646\n",
       " Prof-school       576\n",
       " 9th               514\n",
       " 12th              433\n",
       " Doctorate         413\n",
       " 5th-6th           333\n",
       " 1st-4th           168\n",
       " Preschool          51\n",
       "Name: Istruzione, dtype: int64"
      ]
     },
     "execution_count": 18,
     "metadata": {},
     "output_type": "execute_result"
    }
   ],
   "source": [
    "dataset.Istruzione.value_counts()"
   ]
  },
  {
   "cell_type": "code",
   "execution_count": 19,
   "id": "b66d0ad5",
   "metadata": {},
   "outputs": [
    {
     "data": {
      "text/html": [
       "<div>\n",
       "<style scoped>\n",
       "    .dataframe tbody tr th:only-of-type {\n",
       "        vertical-align: middle;\n",
       "    }\n",
       "\n",
       "    .dataframe tbody tr th {\n",
       "        vertical-align: top;\n",
       "    }\n",
       "\n",
       "    .dataframe thead th {\n",
       "        text-align: right;\n",
       "    }\n",
       "</style>\n",
       "<table border=\"1\" class=\"dataframe\">\n",
       "  <thead>\n",
       "    <tr style=\"text-align: right;\">\n",
       "      <th>Anni_istruzione</th>\n",
       "      <th>1</th>\n",
       "      <th>2</th>\n",
       "      <th>3</th>\n",
       "      <th>4</th>\n",
       "      <th>5</th>\n",
       "      <th>6</th>\n",
       "      <th>7</th>\n",
       "      <th>8</th>\n",
       "      <th>9</th>\n",
       "      <th>10</th>\n",
       "      <th>11</th>\n",
       "      <th>12</th>\n",
       "      <th>13</th>\n",
       "      <th>14</th>\n",
       "      <th>15</th>\n",
       "      <th>16</th>\n",
       "    </tr>\n",
       "    <tr>\n",
       "      <th>Istruzione</th>\n",
       "      <th></th>\n",
       "      <th></th>\n",
       "      <th></th>\n",
       "      <th></th>\n",
       "      <th></th>\n",
       "      <th></th>\n",
       "      <th></th>\n",
       "      <th></th>\n",
       "      <th></th>\n",
       "      <th></th>\n",
       "      <th></th>\n",
       "      <th></th>\n",
       "      <th></th>\n",
       "      <th></th>\n",
       "      <th></th>\n",
       "      <th></th>\n",
       "    </tr>\n",
       "  </thead>\n",
       "  <tbody>\n",
       "    <tr>\n",
       "      <th>10th</th>\n",
       "      <td>0</td>\n",
       "      <td>0</td>\n",
       "      <td>0</td>\n",
       "      <td>0</td>\n",
       "      <td>0</td>\n",
       "      <td>933</td>\n",
       "      <td>0</td>\n",
       "      <td>0</td>\n",
       "      <td>0</td>\n",
       "      <td>0</td>\n",
       "      <td>0</td>\n",
       "      <td>0</td>\n",
       "      <td>0</td>\n",
       "      <td>0</td>\n",
       "      <td>0</td>\n",
       "      <td>0</td>\n",
       "    </tr>\n",
       "    <tr>\n",
       "      <th>11th</th>\n",
       "      <td>0</td>\n",
       "      <td>0</td>\n",
       "      <td>0</td>\n",
       "      <td>0</td>\n",
       "      <td>0</td>\n",
       "      <td>0</td>\n",
       "      <td>1175</td>\n",
       "      <td>0</td>\n",
       "      <td>0</td>\n",
       "      <td>0</td>\n",
       "      <td>0</td>\n",
       "      <td>0</td>\n",
       "      <td>0</td>\n",
       "      <td>0</td>\n",
       "      <td>0</td>\n",
       "      <td>0</td>\n",
       "    </tr>\n",
       "    <tr>\n",
       "      <th>12th</th>\n",
       "      <td>0</td>\n",
       "      <td>0</td>\n",
       "      <td>0</td>\n",
       "      <td>0</td>\n",
       "      <td>0</td>\n",
       "      <td>0</td>\n",
       "      <td>0</td>\n",
       "      <td>433</td>\n",
       "      <td>0</td>\n",
       "      <td>0</td>\n",
       "      <td>0</td>\n",
       "      <td>0</td>\n",
       "      <td>0</td>\n",
       "      <td>0</td>\n",
       "      <td>0</td>\n",
       "      <td>0</td>\n",
       "    </tr>\n",
       "    <tr>\n",
       "      <th>1st-4th</th>\n",
       "      <td>0</td>\n",
       "      <td>168</td>\n",
       "      <td>0</td>\n",
       "      <td>0</td>\n",
       "      <td>0</td>\n",
       "      <td>0</td>\n",
       "      <td>0</td>\n",
       "      <td>0</td>\n",
       "      <td>0</td>\n",
       "      <td>0</td>\n",
       "      <td>0</td>\n",
       "      <td>0</td>\n",
       "      <td>0</td>\n",
       "      <td>0</td>\n",
       "      <td>0</td>\n",
       "      <td>0</td>\n",
       "    </tr>\n",
       "    <tr>\n",
       "      <th>5th-6th</th>\n",
       "      <td>0</td>\n",
       "      <td>0</td>\n",
       "      <td>333</td>\n",
       "      <td>0</td>\n",
       "      <td>0</td>\n",
       "      <td>0</td>\n",
       "      <td>0</td>\n",
       "      <td>0</td>\n",
       "      <td>0</td>\n",
       "      <td>0</td>\n",
       "      <td>0</td>\n",
       "      <td>0</td>\n",
       "      <td>0</td>\n",
       "      <td>0</td>\n",
       "      <td>0</td>\n",
       "      <td>0</td>\n",
       "    </tr>\n",
       "    <tr>\n",
       "      <th>7th-8th</th>\n",
       "      <td>0</td>\n",
       "      <td>0</td>\n",
       "      <td>0</td>\n",
       "      <td>646</td>\n",
       "      <td>0</td>\n",
       "      <td>0</td>\n",
       "      <td>0</td>\n",
       "      <td>0</td>\n",
       "      <td>0</td>\n",
       "      <td>0</td>\n",
       "      <td>0</td>\n",
       "      <td>0</td>\n",
       "      <td>0</td>\n",
       "      <td>0</td>\n",
       "      <td>0</td>\n",
       "      <td>0</td>\n",
       "    </tr>\n",
       "    <tr>\n",
       "      <th>9th</th>\n",
       "      <td>0</td>\n",
       "      <td>0</td>\n",
       "      <td>0</td>\n",
       "      <td>0</td>\n",
       "      <td>514</td>\n",
       "      <td>0</td>\n",
       "      <td>0</td>\n",
       "      <td>0</td>\n",
       "      <td>0</td>\n",
       "      <td>0</td>\n",
       "      <td>0</td>\n",
       "      <td>0</td>\n",
       "      <td>0</td>\n",
       "      <td>0</td>\n",
       "      <td>0</td>\n",
       "      <td>0</td>\n",
       "    </tr>\n",
       "    <tr>\n",
       "      <th>Assoc-acdm</th>\n",
       "      <td>0</td>\n",
       "      <td>0</td>\n",
       "      <td>0</td>\n",
       "      <td>0</td>\n",
       "      <td>0</td>\n",
       "      <td>0</td>\n",
       "      <td>0</td>\n",
       "      <td>0</td>\n",
       "      <td>0</td>\n",
       "      <td>0</td>\n",
       "      <td>0</td>\n",
       "      <td>1067</td>\n",
       "      <td>0</td>\n",
       "      <td>0</td>\n",
       "      <td>0</td>\n",
       "      <td>0</td>\n",
       "    </tr>\n",
       "    <tr>\n",
       "      <th>Assoc-voc</th>\n",
       "      <td>0</td>\n",
       "      <td>0</td>\n",
       "      <td>0</td>\n",
       "      <td>0</td>\n",
       "      <td>0</td>\n",
       "      <td>0</td>\n",
       "      <td>0</td>\n",
       "      <td>0</td>\n",
       "      <td>0</td>\n",
       "      <td>0</td>\n",
       "      <td>1382</td>\n",
       "      <td>0</td>\n",
       "      <td>0</td>\n",
       "      <td>0</td>\n",
       "      <td>0</td>\n",
       "      <td>0</td>\n",
       "    </tr>\n",
       "    <tr>\n",
       "      <th>Bachelors</th>\n",
       "      <td>0</td>\n",
       "      <td>0</td>\n",
       "      <td>0</td>\n",
       "      <td>0</td>\n",
       "      <td>0</td>\n",
       "      <td>0</td>\n",
       "      <td>0</td>\n",
       "      <td>0</td>\n",
       "      <td>0</td>\n",
       "      <td>0</td>\n",
       "      <td>0</td>\n",
       "      <td>0</td>\n",
       "      <td>5355</td>\n",
       "      <td>0</td>\n",
       "      <td>0</td>\n",
       "      <td>0</td>\n",
       "    </tr>\n",
       "    <tr>\n",
       "      <th>Doctorate</th>\n",
       "      <td>0</td>\n",
       "      <td>0</td>\n",
       "      <td>0</td>\n",
       "      <td>0</td>\n",
       "      <td>0</td>\n",
       "      <td>0</td>\n",
       "      <td>0</td>\n",
       "      <td>0</td>\n",
       "      <td>0</td>\n",
       "      <td>0</td>\n",
       "      <td>0</td>\n",
       "      <td>0</td>\n",
       "      <td>0</td>\n",
       "      <td>0</td>\n",
       "      <td>0</td>\n",
       "      <td>413</td>\n",
       "    </tr>\n",
       "    <tr>\n",
       "      <th>HS-grad</th>\n",
       "      <td>0</td>\n",
       "      <td>0</td>\n",
       "      <td>0</td>\n",
       "      <td>0</td>\n",
       "      <td>0</td>\n",
       "      <td>0</td>\n",
       "      <td>0</td>\n",
       "      <td>0</td>\n",
       "      <td>10501</td>\n",
       "      <td>0</td>\n",
       "      <td>0</td>\n",
       "      <td>0</td>\n",
       "      <td>0</td>\n",
       "      <td>0</td>\n",
       "      <td>0</td>\n",
       "      <td>0</td>\n",
       "    </tr>\n",
       "    <tr>\n",
       "      <th>Masters</th>\n",
       "      <td>0</td>\n",
       "      <td>0</td>\n",
       "      <td>0</td>\n",
       "      <td>0</td>\n",
       "      <td>0</td>\n",
       "      <td>0</td>\n",
       "      <td>0</td>\n",
       "      <td>0</td>\n",
       "      <td>0</td>\n",
       "      <td>0</td>\n",
       "      <td>0</td>\n",
       "      <td>0</td>\n",
       "      <td>0</td>\n",
       "      <td>1723</td>\n",
       "      <td>0</td>\n",
       "      <td>0</td>\n",
       "    </tr>\n",
       "    <tr>\n",
       "      <th>Preschool</th>\n",
       "      <td>51</td>\n",
       "      <td>0</td>\n",
       "      <td>0</td>\n",
       "      <td>0</td>\n",
       "      <td>0</td>\n",
       "      <td>0</td>\n",
       "      <td>0</td>\n",
       "      <td>0</td>\n",
       "      <td>0</td>\n",
       "      <td>0</td>\n",
       "      <td>0</td>\n",
       "      <td>0</td>\n",
       "      <td>0</td>\n",
       "      <td>0</td>\n",
       "      <td>0</td>\n",
       "      <td>0</td>\n",
       "    </tr>\n",
       "    <tr>\n",
       "      <th>Prof-school</th>\n",
       "      <td>0</td>\n",
       "      <td>0</td>\n",
       "      <td>0</td>\n",
       "      <td>0</td>\n",
       "      <td>0</td>\n",
       "      <td>0</td>\n",
       "      <td>0</td>\n",
       "      <td>0</td>\n",
       "      <td>0</td>\n",
       "      <td>0</td>\n",
       "      <td>0</td>\n",
       "      <td>0</td>\n",
       "      <td>0</td>\n",
       "      <td>0</td>\n",
       "      <td>576</td>\n",
       "      <td>0</td>\n",
       "    </tr>\n",
       "    <tr>\n",
       "      <th>Some-college</th>\n",
       "      <td>0</td>\n",
       "      <td>0</td>\n",
       "      <td>0</td>\n",
       "      <td>0</td>\n",
       "      <td>0</td>\n",
       "      <td>0</td>\n",
       "      <td>0</td>\n",
       "      <td>0</td>\n",
       "      <td>0</td>\n",
       "      <td>7291</td>\n",
       "      <td>0</td>\n",
       "      <td>0</td>\n",
       "      <td>0</td>\n",
       "      <td>0</td>\n",
       "      <td>0</td>\n",
       "      <td>0</td>\n",
       "    </tr>\n",
       "  </tbody>\n",
       "</table>\n",
       "</div>"
      ],
      "text/plain": [
       "Anni_istruzione  1    2    3    4    5    6     7    8      9     10    11  \\\n",
       "Istruzione                                                                   \n",
       " 10th             0    0    0    0    0  933     0    0      0     0     0   \n",
       " 11th             0    0    0    0    0    0  1175    0      0     0     0   \n",
       " 12th             0    0    0    0    0    0     0  433      0     0     0   \n",
       " 1st-4th          0  168    0    0    0    0     0    0      0     0     0   \n",
       " 5th-6th          0    0  333    0    0    0     0    0      0     0     0   \n",
       " 7th-8th          0    0    0  646    0    0     0    0      0     0     0   \n",
       " 9th              0    0    0    0  514    0     0    0      0     0     0   \n",
       " Assoc-acdm       0    0    0    0    0    0     0    0      0     0     0   \n",
       " Assoc-voc        0    0    0    0    0    0     0    0      0     0  1382   \n",
       " Bachelors        0    0    0    0    0    0     0    0      0     0     0   \n",
       " Doctorate        0    0    0    0    0    0     0    0      0     0     0   \n",
       " HS-grad          0    0    0    0    0    0     0    0  10501     0     0   \n",
       " Masters          0    0    0    0    0    0     0    0      0     0     0   \n",
       " Preschool       51    0    0    0    0    0     0    0      0     0     0   \n",
       " Prof-school      0    0    0    0    0    0     0    0      0     0     0   \n",
       " Some-college     0    0    0    0    0    0     0    0      0  7291     0   \n",
       "\n",
       "Anni_istruzione    12    13    14   15   16  \n",
       "Istruzione                                   \n",
       " 10th               0     0     0    0    0  \n",
       " 11th               0     0     0    0    0  \n",
       " 12th               0     0     0    0    0  \n",
       " 1st-4th            0     0     0    0    0  \n",
       " 5th-6th            0     0     0    0    0  \n",
       " 7th-8th            0     0     0    0    0  \n",
       " 9th                0     0     0    0    0  \n",
       " Assoc-acdm      1067     0     0    0    0  \n",
       " Assoc-voc          0     0     0    0    0  \n",
       " Bachelors          0  5355     0    0    0  \n",
       " Doctorate          0     0     0    0  413  \n",
       " HS-grad            0     0     0    0    0  \n",
       " Masters            0     0  1723    0    0  \n",
       " Preschool          0     0     0    0    0  \n",
       " Prof-school        0     0     0  576    0  \n",
       " Some-college       0     0     0    0    0  "
      ]
     },
     "execution_count": 19,
     "metadata": {},
     "output_type": "execute_result"
    }
   ],
   "source": [
    "pd.crosstab(dataset.Istruzione, dataset.Anni_istruzione)"
   ]
  },
  {
   "cell_type": "markdown",
   "id": "5775d9eb",
   "metadata": {},
   "source": [
    "*Dalla tabella di contingenza si evince che le due variabili esprimono le stesse informazioni, per cui possiamo scegliere una delle due* "
   ]
  },
  {
   "cell_type": "code",
   "execution_count": 20,
   "id": "df1a8f7f",
   "metadata": {},
   "outputs": [],
   "source": [
    "dataset.drop(\"Anni_istruzione\", axis = 1, inplace = True)"
   ]
  },
  {
   "cell_type": "markdown",
   "id": "85b52d64",
   "metadata": {},
   "source": [
    "*Trasformiamo la variabile Istruzione in Ordinal_encoding*"
   ]
  },
  {
   "cell_type": "code",
   "execution_count": 21,
   "id": "3808f35c",
   "metadata": {},
   "outputs": [],
   "source": [
    "Anni = CategoricalDtype(categories = [' Preschool',' 1st-4th',' 5th-6th',' 7th-8th',' 9th',' 10th',\n",
    "' 11th',' 12th',' HS-grad',' Some-college',' Assoc-voc',' Assoc-acdm',\n",
    "' Prof-school',' Bachelors',' Masters',' Doctorate'], ordered = True)\n",
    "dataset[\"Istruzione\"] = dataset[\"Istruzione\"].astype(Anni)"
   ]
  },
  {
   "cell_type": "code",
   "execution_count": 22,
   "id": "14831ac7",
   "metadata": {},
   "outputs": [
    {
     "data": {
      "image/png": "[encoded data removed]",
      "text/plain": [
       "<Figure size 1080x1584 with 2 Axes>"
      ]
     },
     "metadata": {
      "needs_background": "light"
     },
     "output_type": "display_data"
    }
   ],
   "source": [
    "Istruzione, tabella_cont_ist = analisi_variabili_categoriche(dataset,\"Istruzione\", \"Reddito\")"
   ]
  },
  {
   "cell_type": "code",
   "execution_count": 23,
   "id": "2d6fc33b",
   "metadata": {},
   "outputs": [
    {
     "data": {
      "text/plain": [
       " HS-grad         0.322502\n",
       " Some-college    0.223918\n",
       " Bachelors       0.164461\n",
       " Masters         0.052916\n",
       " Assoc-voc       0.042443\n",
       " 11th            0.036086\n",
       " Assoc-acdm      0.032769\n",
       " 10th            0.028654\n",
       " 7th-8th         0.019840\n",
       " Prof-school     0.017690\n",
       " 9th             0.015786\n",
       " 12th            0.013298\n",
       " Doctorate       0.012684\n",
       " 5th-6th         0.010227\n",
       " 1st-4th         0.005160\n",
       " Preschool       0.001566\n",
       "Name: Istruzione, dtype: float64"
      ]
     },
     "execution_count": 23,
     "metadata": {},
     "output_type": "execute_result"
    }
   ],
   "source": [
    "Istruzione"
   ]
  },
  {
   "cell_type": "markdown",
   "id": "7f618da9",
   "metadata": {},
   "source": [
    "*Dai grafici e dalla tabella si osserva come:* \n",
    "* La maggior parte del campione abbia un diploma (32% circa)\n",
    "* La percentuale di laureati è maggiore della somma delle percentuali di coloro che non abbiano nemmeno un diploma\n",
    "* All'aumentare del grado del titolo di studio, aumenta la percentuale di individui che posseggono un reddito maggiore di 50k\n",
    "* Sono pochissimi gli individui che non abbiano conseguito almeno un diploma e che posseggono un reddito maggiore di 50k"
   ]
  },
  {
   "cell_type": "code",
   "execution_count": 24,
   "id": "d03a31de",
   "metadata": {},
   "outputs": [
    {
     "data": {
      "text/html": [
       "<div>\n",
       "<style scoped>\n",
       "    .dataframe tbody tr th:only-of-type {\n",
       "        vertical-align: middle;\n",
       "    }\n",
       "\n",
       "    .dataframe tbody tr th {\n",
       "        vertical-align: top;\n",
       "    }\n",
       "\n",
       "    .dataframe thead th {\n",
       "        text-align: right;\n",
       "    }\n",
       "</style>\n",
       "<table border=\"1\" class=\"dataframe\">\n",
       "  <thead>\n",
       "    <tr style=\"text-align: right;\">\n",
       "      <th>Reddito</th>\n",
       "      <th>&lt;=50K</th>\n",
       "      <th>&gt;50K</th>\n",
       "    </tr>\n",
       "    <tr>\n",
       "      <th>Istruzione</th>\n",
       "      <th></th>\n",
       "      <th></th>\n",
       "    </tr>\n",
       "  </thead>\n",
       "  <tbody>\n",
       "    <tr>\n",
       "      <th>Preschool</th>\n",
       "      <td>1.000000</td>\n",
       "      <td>0.000000</td>\n",
       "    </tr>\n",
       "    <tr>\n",
       "      <th>1st-4th</th>\n",
       "      <td>0.964286</td>\n",
       "      <td>0.035714</td>\n",
       "    </tr>\n",
       "    <tr>\n",
       "      <th>5th-6th</th>\n",
       "      <td>0.951952</td>\n",
       "      <td>0.048048</td>\n",
       "    </tr>\n",
       "    <tr>\n",
       "      <th>7th-8th</th>\n",
       "      <td>0.938080</td>\n",
       "      <td>0.061920</td>\n",
       "    </tr>\n",
       "    <tr>\n",
       "      <th>9th</th>\n",
       "      <td>0.947471</td>\n",
       "      <td>0.052529</td>\n",
       "    </tr>\n",
       "    <tr>\n",
       "      <th>10th</th>\n",
       "      <td>0.933548</td>\n",
       "      <td>0.066452</td>\n",
       "    </tr>\n",
       "    <tr>\n",
       "      <th>11th</th>\n",
       "      <td>0.948936</td>\n",
       "      <td>0.051064</td>\n",
       "    </tr>\n",
       "    <tr>\n",
       "      <th>12th</th>\n",
       "      <td>0.923788</td>\n",
       "      <td>0.076212</td>\n",
       "    </tr>\n",
       "    <tr>\n",
       "      <th>HS-grad</th>\n",
       "      <td>0.840491</td>\n",
       "      <td>0.159509</td>\n",
       "    </tr>\n",
       "    <tr>\n",
       "      <th>Some-college</th>\n",
       "      <td>0.809765</td>\n",
       "      <td>0.190235</td>\n",
       "    </tr>\n",
       "    <tr>\n",
       "      <th>Assoc-voc</th>\n",
       "      <td>0.738784</td>\n",
       "      <td>0.261216</td>\n",
       "    </tr>\n",
       "    <tr>\n",
       "      <th>Assoc-acdm</th>\n",
       "      <td>0.751640</td>\n",
       "      <td>0.248360</td>\n",
       "    </tr>\n",
       "    <tr>\n",
       "      <th>Prof-school</th>\n",
       "      <td>0.265625</td>\n",
       "      <td>0.734375</td>\n",
       "    </tr>\n",
       "    <tr>\n",
       "      <th>Bachelors</th>\n",
       "      <td>0.585247</td>\n",
       "      <td>0.414753</td>\n",
       "    </tr>\n",
       "    <tr>\n",
       "      <th>Masters</th>\n",
       "      <td>0.443413</td>\n",
       "      <td>0.556587</td>\n",
       "    </tr>\n",
       "    <tr>\n",
       "      <th>Doctorate</th>\n",
       "      <td>0.259080</td>\n",
       "      <td>0.740920</td>\n",
       "    </tr>\n",
       "  </tbody>\n",
       "</table>\n",
       "</div>"
      ],
      "text/plain": [
       "Reddito           <=50K      >50K\n",
       "Istruzione                       \n",
       " Preschool     1.000000  0.000000\n",
       " 1st-4th       0.964286  0.035714\n",
       " 5th-6th       0.951952  0.048048\n",
       " 7th-8th       0.938080  0.061920\n",
       " 9th           0.947471  0.052529\n",
       " 10th          0.933548  0.066452\n",
       " 11th          0.948936  0.051064\n",
       " 12th          0.923788  0.076212\n",
       " HS-grad       0.840491  0.159509\n",
       " Some-college  0.809765  0.190235\n",
       " Assoc-voc     0.738784  0.261216\n",
       " Assoc-acdm    0.751640  0.248360\n",
       " Prof-school   0.265625  0.734375\n",
       " Bachelors     0.585247  0.414753\n",
       " Masters       0.443413  0.556587\n",
       " Doctorate     0.259080  0.740920"
      ]
     },
     "execution_count": 24,
     "metadata": {},
     "output_type": "execute_result"
    }
   ],
   "source": [
    "tabella_cont_ist"
   ]
  },
  {
   "cell_type": "markdown",
   "id": "6d83066c",
   "metadata": {},
   "source": [
    "*Date le percentuali molto simili, unifichiamo tutte le categorie antecedenti a quelle del diploma*"
   ]
  },
  {
   "cell_type": "code",
   "execution_count": 25,
   "id": "04fdc275",
   "metadata": {},
   "outputs": [],
   "source": [
    "da_sostituire = [\" Preschool\", \" 1st-4th\", \" 5th-6th\", \n",
    "                \" 7th-8th\",\" 9th\",\" 10th\",\" 11th\",\" 12th\"]\n",
    "dataset.replace(da_sostituire, \" No-Diploma\", inplace = True)"
   ]
  },
  {
   "cell_type": "code",
   "execution_count": 26,
   "id": "66adbb13",
   "metadata": {},
   "outputs": [
    {
     "data": {
      "text/html": [
       "<div>\n",
       "<style scoped>\n",
       "    .dataframe tbody tr th:only-of-type {\n",
       "        vertical-align: middle;\n",
       "    }\n",
       "\n",
       "    .dataframe tbody tr th {\n",
       "        vertical-align: top;\n",
       "    }\n",
       "\n",
       "    .dataframe thead th {\n",
       "        text-align: right;\n",
       "    }\n",
       "</style>\n",
       "<table border=\"1\" class=\"dataframe\">\n",
       "  <thead>\n",
       "    <tr style=\"text-align: right;\">\n",
       "      <th></th>\n",
       "      <th>correlation</th>\n",
       "      <th>p_value</th>\n",
       "      <th>sign_0.05</th>\n",
       "    </tr>\n",
       "  </thead>\n",
       "  <tbody>\n",
       "    <tr>\n",
       "      <th>Kendall</th>\n",
       "      <td>-0.108618</td>\n",
       "      <td>3.842875e-107</td>\n",
       "      <td>True</td>\n",
       "    </tr>\n",
       "  </tbody>\n",
       "</table>\n",
       "</div>"
      ],
      "text/plain": [
       "         correlation        p_value  sign_0.05\n",
       "Kendall    -0.108618  3.842875e-107       True"
      ]
     },
     "execution_count": 26,
     "metadata": {},
     "output_type": "execute_result"
    }
   ],
   "source": [
    "dipendenza_correlazione(dataset,\"Istruzione\",\"Reddito\") #Manteniamo"
   ]
  },
  {
   "cell_type": "markdown",
   "id": "a8696111",
   "metadata": {},
   "source": [
    "*Stato sociale*"
   ]
  },
  {
   "cell_type": "code",
   "execution_count": 27,
   "id": "64495605",
   "metadata": {},
   "outputs": [
    {
     "data": {
      "image/png": "[encoded data removed]",
      "text/plain": [
       "<Figure size 1080x1584 with 2 Axes>"
      ]
     },
     "metadata": {
      "needs_background": "light"
     },
     "output_type": "display_data"
    }
   ],
   "source": [
    "Stato_sociale, tabella_cont_Stato_soc = analisi_variabili_categoriche(dataset, \"Stato_sociale\",\"Reddito\")"
   ]
  },
  {
   "cell_type": "code",
   "execution_count": 28,
   "id": "9a04c649",
   "metadata": {},
   "outputs": [
    {
     "data": {
      "text/plain": [
       "( Married-civ-spouse       0.459937\n",
       "  Never-married            0.328092\n",
       "  Divorced                 0.136452\n",
       "  Separated                0.031479\n",
       "  Widowed                  0.030497\n",
       "  Married-spouse-absent    0.012837\n",
       "  Married-AF-spouse        0.000706\n",
       " Name: Stato_sociale, dtype: float64,\n",
       " Reddito                    <=50K      >50K\n",
       " Stato_sociale                             \n",
       "  Divorced               0.895791  0.104209\n",
       "  Married-AF-spouse      0.565217  0.434783\n",
       "  Married-civ-spouse     0.553152  0.446848\n",
       "  Married-spouse-absent  0.918660  0.081340\n",
       "  Never-married          0.954039  0.045961\n",
       "  Separated              0.935610  0.064390\n",
       "  Widowed                0.914401  0.085599)"
      ]
     },
     "execution_count": 28,
     "metadata": {},
     "output_type": "execute_result"
    }
   ],
   "source": [
    "Stato_sociale, tabella_cont_Stato_soc"
   ]
  },
  {
   "cell_type": "markdown",
   "id": "a00795a1",
   "metadata": {},
   "source": [
    "*Dall'analisi si evince:* \n",
    "* Il 46% del campione risulta sposato civilmente, mentre solo lo 0.7% è sposato nelle forze armate\n",
    "* La percentuale di osservazioni che presenta un reddito maggiore di 50k è molto simile per coloro che risultano separati e chi risulta mai sposato \n",
    "\n",
    "*Si procederà:*\n",
    "* Unificazione delle categorie \"Married-AF-spouse\", \"Married-civ-spouse\" con la categoria \"married\" \n",
    "* Unificazione delle categorie \"Never-Married\", \"Separated\" con la categoria \"No relation\" "
   ]
  },
  {
   "cell_type": "code",
   "execution_count": 29,
   "id": "0a49ba5b",
   "metadata": {},
   "outputs": [],
   "source": [
    "dataset = unificazione_categorie(dataset,\"Stato_sociale\",[\" Married-AF-spouse\", \" Married-civ-spouse\"],\n",
    "                                \" Married\")\n",
    "dataset = unificazione_categorie(dataset,\"Stato_sociale\",[\" Never-married\", \" Separated\"],\n",
    "                                \" No-relation\")\n"
   ]
  },
  {
   "cell_type": "markdown",
   "id": "a42e33d9",
   "metadata": {},
   "source": [
    "*Osserviamo la dipendenza rispetto al target*"
   ]
  },
  {
   "cell_type": "code",
   "execution_count": 30,
   "id": "1e22add8",
   "metadata": {},
   "outputs": [
    {
     "data": {
      "text/html": [
       "<div>\n",
       "<style scoped>\n",
       "    .dataframe tbody tr th:only-of-type {\n",
       "        vertical-align: middle;\n",
       "    }\n",
       "\n",
       "    .dataframe tbody tr th {\n",
       "        vertical-align: top;\n",
       "    }\n",
       "\n",
       "    .dataframe thead th {\n",
       "        text-align: right;\n",
       "    }\n",
       "</style>\n",
       "<table border=\"1\" class=\"dataframe\">\n",
       "  <thead>\n",
       "    <tr style=\"text-align: right;\">\n",
       "      <th></th>\n",
       "      <th>p_value</th>\n",
       "      <th>sign_0.05</th>\n",
       "    </tr>\n",
       "  </thead>\n",
       "  <tbody>\n",
       "    <tr>\n",
       "      <th>chi2</th>\n",
       "      <td>0.0</td>\n",
       "      <td>True</td>\n",
       "    </tr>\n",
       "  </tbody>\n",
       "</table>\n",
       "</div>"
      ],
      "text/plain": [
       "      p_value  sign_0.05\n",
       "chi2      0.0       True"
      ]
     },
     "execution_count": 30,
     "metadata": {},
     "output_type": "execute_result"
    }
   ],
   "source": [
    "dipendenza_correlazione(dataset,\"Reddito\",\"Stato_sociale\") #Significativo, per cui la teniamo"
   ]
  },
  {
   "cell_type": "markdown",
   "id": "1add614f",
   "metadata": {},
   "source": [
    "*Condizione_familiare*\n"
   ]
  },
  {
   "cell_type": "code",
   "execution_count": 31,
   "id": "551d3e35",
   "metadata": {},
   "outputs": [
    {
     "data": {
      "text/html": [
       "<div>\n",
       "<style scoped>\n",
       "    .dataframe tbody tr th:only-of-type {\n",
       "        vertical-align: middle;\n",
       "    }\n",
       "\n",
       "    .dataframe tbody tr th {\n",
       "        vertical-align: top;\n",
       "    }\n",
       "\n",
       "    .dataframe thead th {\n",
       "        text-align: right;\n",
       "    }\n",
       "</style>\n",
       "<table border=\"1\" class=\"dataframe\">\n",
       "  <thead>\n",
       "    <tr style=\"text-align: right;\">\n",
       "      <th>Condizione_familiare</th>\n",
       "      <th>Husband</th>\n",
       "      <th>Not-in-family</th>\n",
       "      <th>Other-relative</th>\n",
       "      <th>Own-child</th>\n",
       "      <th>Unmarried</th>\n",
       "      <th>Wife</th>\n",
       "    </tr>\n",
       "    <tr>\n",
       "      <th>Stato_sociale</th>\n",
       "      <th></th>\n",
       "      <th></th>\n",
       "      <th></th>\n",
       "      <th></th>\n",
       "      <th></th>\n",
       "      <th></th>\n",
       "    </tr>\n",
       "  </thead>\n",
       "  <tbody>\n",
       "    <tr>\n",
       "      <th>Divorced</th>\n",
       "      <td>0</td>\n",
       "      <td>2404</td>\n",
       "      <td>110</td>\n",
       "      <td>328</td>\n",
       "      <td>1601</td>\n",
       "      <td>0</td>\n",
       "    </tr>\n",
       "    <tr>\n",
       "      <th>Married</th>\n",
       "      <td>13193</td>\n",
       "      <td>17</td>\n",
       "      <td>125</td>\n",
       "      <td>96</td>\n",
       "      <td>0</td>\n",
       "      <td>1568</td>\n",
       "    </tr>\n",
       "    <tr>\n",
       "      <th>Married-spouse-absent</th>\n",
       "      <td>0</td>\n",
       "      <td>211</td>\n",
       "      <td>32</td>\n",
       "      <td>45</td>\n",
       "      <td>130</td>\n",
       "      <td>0</td>\n",
       "    </tr>\n",
       "    <tr>\n",
       "      <th>No-relation</th>\n",
       "      <td>0</td>\n",
       "      <td>5126</td>\n",
       "      <td>666</td>\n",
       "      <td>4584</td>\n",
       "      <td>1332</td>\n",
       "      <td>0</td>\n",
       "    </tr>\n",
       "    <tr>\n",
       "      <th>Widowed</th>\n",
       "      <td>0</td>\n",
       "      <td>547</td>\n",
       "      <td>48</td>\n",
       "      <td>15</td>\n",
       "      <td>383</td>\n",
       "      <td>0</td>\n",
       "    </tr>\n",
       "  </tbody>\n",
       "</table>\n",
       "</div>"
      ],
      "text/plain": [
       "Condizione_familiare     Husband   Not-in-family   Other-relative   Own-child  \\\n",
       "Stato_sociale                                                                   \n",
       " Divorced                      0            2404              110         328   \n",
       " Married                   13193              17              125          96   \n",
       " Married-spouse-absent         0             211               32          45   \n",
       " No-relation                   0            5126              666        4584   \n",
       " Widowed                       0             547               48          15   \n",
       "\n",
       "Condizione_familiare     Unmarried   Wife  \n",
       "Stato_sociale                              \n",
       " Divorced                     1601      0  \n",
       " Married                         0   1568  \n",
       " Married-spouse-absent         130      0  \n",
       " No-relation                  1332      0  \n",
       " Widowed                       383      0  "
      ]
     },
     "execution_count": 31,
     "metadata": {},
     "output_type": "execute_result"
    }
   ],
   "source": [
    "pd.crosstab(dataset.Stato_sociale, dataset.Condizione_familiare)"
   ]
  },
  {
   "cell_type": "code",
   "execution_count": 32,
   "id": "f210cd85",
   "metadata": {},
   "outputs": [
    {
     "data": {
      "text/html": [
       "<div>\n",
       "<style scoped>\n",
       "    .dataframe tbody tr th:only-of-type {\n",
       "        vertical-align: middle;\n",
       "    }\n",
       "\n",
       "    .dataframe tbody tr th {\n",
       "        vertical-align: top;\n",
       "    }\n",
       "\n",
       "    .dataframe thead th {\n",
       "        text-align: right;\n",
       "    }\n",
       "</style>\n",
       "<table border=\"1\" class=\"dataframe\">\n",
       "  <thead>\n",
       "    <tr style=\"text-align: right;\">\n",
       "      <th></th>\n",
       "      <th>p_value</th>\n",
       "      <th>sign_0.01</th>\n",
       "    </tr>\n",
       "  </thead>\n",
       "  <tbody>\n",
       "    <tr>\n",
       "      <th>chi2</th>\n",
       "      <td>0.0</td>\n",
       "      <td>True</td>\n",
       "    </tr>\n",
       "  </tbody>\n",
       "</table>\n",
       "</div>"
      ],
      "text/plain": [
       "      p_value  sign_0.01\n",
       "chi2      0.0       True"
      ]
     },
     "execution_count": 32,
     "metadata": {},
     "output_type": "execute_result"
    }
   ],
   "source": [
    "dipendenza_correlazione(dataset, \"Reddito\", \"Condizione_familiare\", p_value_lv = 0.01)\n",
    "#Il test suggerisce di mantenere la variabile"
   ]
  },
  {
   "cell_type": "code",
   "execution_count": 33,
   "id": "e91b9dee",
   "metadata": {},
   "outputs": [
    {
     "data": {
      "image/png": "[encoded data removed]",
      "text/plain": [
       "<Figure size 1080x1584 with 2 Axes>"
      ]
     },
     "metadata": {
      "needs_background": "light"
     },
     "output_type": "display_data"
    }
   ],
   "source": [
    "Condizione_familiare, tabella_cont_cond = analisi_variabili_categoriche(dataset, \"Condizione_familiare\",\n",
    "                                                                       \"Reddito\")"
   ]
  },
  {
   "cell_type": "code",
   "execution_count": 34,
   "id": "01776de7",
   "metadata": {},
   "outputs": [
    {
     "data": {
      "text/plain": [
       "( Husband           0.405178\n",
       "  Not-in-family     0.255060\n",
       "  Own-child         0.155646\n",
       "  Unmarried         0.105832\n",
       "  Wife              0.048156\n",
       "  Other-relative    0.030128\n",
       " Name: Condizione_familiare, dtype: float64,\n",
       " Reddito                  <=50K      >50K\n",
       " Condizione_familiare                    \n",
       "  Husband              0.551429  0.448571\n",
       "  Not-in-family        0.896930  0.103070\n",
       "  Other-relative       0.962283  0.037717\n",
       "  Own-child            0.986780  0.013220\n",
       "  Unmarried            0.936738  0.063262\n",
       "  Wife                 0.524872  0.475128)"
      ]
     },
     "execution_count": 34,
     "metadata": {},
     "output_type": "execute_result"
    }
   ],
   "source": [
    "Condizione_familiare, tabella_cont_cond"
   ]
  },
  {
   "cell_type": "markdown",
   "id": "af463e8a",
   "metadata": {},
   "source": [
    "*Dall'analisi si evince:*\n",
    "* Il 40% del campione è un marito\n",
    "* Si osservano simili percentuali in merito al reddito per \"wife\" e \"husband\"\n",
    "\n",
    "*Si decide:*\n",
    "* Unificazione della categoria \"Husband\" e \"Wife\" con la categoria \"Husband-Wife\"\n",
    "\n"
   ]
  },
  {
   "cell_type": "code",
   "execution_count": 35,
   "id": "4d2091e9",
   "metadata": {},
   "outputs": [],
   "source": [
    "dataset = unificazione_categorie(dataset, \"Condizione_familiare\",[\" Husband\", \" Wife\"], \" Husband-Wife\" )"
   ]
  },
  {
   "cell_type": "markdown",
   "id": "86e0c079",
   "metadata": {},
   "source": [
    "*La variabile \"Condizione_familiare\" resistuisce delle informazioni molto similii alla variabile \"Stato sociale\". Osservando il test del chiquadro otteniamo una dipendenza significativa. Decidiamo quindi di eliminare tale variabile* "
   ]
  },
  {
   "cell_type": "code",
   "execution_count": 36,
   "id": "b5d3fd77",
   "metadata": {},
   "outputs": [
    {
     "data": {
      "text/html": [
       "<div>\n",
       "<style scoped>\n",
       "    .dataframe tbody tr th:only-of-type {\n",
       "        vertical-align: middle;\n",
       "    }\n",
       "\n",
       "    .dataframe tbody tr th {\n",
       "        vertical-align: top;\n",
       "    }\n",
       "\n",
       "    .dataframe thead th {\n",
       "        text-align: right;\n",
       "    }\n",
       "</style>\n",
       "<table border=\"1\" class=\"dataframe\">\n",
       "  <thead>\n",
       "    <tr style=\"text-align: right;\">\n",
       "      <th></th>\n",
       "      <th>p_value</th>\n",
       "      <th>sign_0.05</th>\n",
       "    </tr>\n",
       "  </thead>\n",
       "  <tbody>\n",
       "    <tr>\n",
       "      <th>chi2</th>\n",
       "      <td>0.0</td>\n",
       "      <td>True</td>\n",
       "    </tr>\n",
       "  </tbody>\n",
       "</table>\n",
       "</div>"
      ],
      "text/plain": [
       "      p_value  sign_0.05\n",
       "chi2      0.0       True"
      ]
     },
     "execution_count": 36,
     "metadata": {},
     "output_type": "execute_result"
    }
   ],
   "source": [
    "dipendenza_correlazione(dataset, \"Condizione_familiare\", \"Stato_sociale\")"
   ]
  },
  {
   "cell_type": "code",
   "execution_count": 37,
   "id": "59ea4219",
   "metadata": {},
   "outputs": [],
   "source": [
    "dataset.drop(\"Condizione_familiare\", axis = 1, inplace = True)"
   ]
  },
  {
   "cell_type": "code",
   "execution_count": 38,
   "id": "0a7d3d5a",
   "metadata": {},
   "outputs": [
    {
     "data": {
      "text/html": [
       "<div>\n",
       "<style scoped>\n",
       "    .dataframe tbody tr th:only-of-type {\n",
       "        vertical-align: middle;\n",
       "    }\n",
       "\n",
       "    .dataframe tbody tr th {\n",
       "        vertical-align: top;\n",
       "    }\n",
       "\n",
       "    .dataframe thead th {\n",
       "        text-align: right;\n",
       "    }\n",
       "</style>\n",
       "<table border=\"1\" class=\"dataframe\">\n",
       "  <thead>\n",
       "    <tr style=\"text-align: right;\">\n",
       "      <th></th>\n",
       "      <th>Age</th>\n",
       "      <th>Tipo_lavoro</th>\n",
       "      <th>Istruzione</th>\n",
       "      <th>Stato_sociale</th>\n",
       "      <th>Etnia</th>\n",
       "      <th>Genere</th>\n",
       "      <th>Cap_guadagnato</th>\n",
       "      <th>Cap_perso</th>\n",
       "      <th>Ore_settimanali</th>\n",
       "      <th>Reddito</th>\n",
       "      <th>Paese_Nativo_cat</th>\n",
       "      <th>Age_log</th>\n",
       "    </tr>\n",
       "  </thead>\n",
       "  <tbody>\n",
       "    <tr>\n",
       "      <th>0</th>\n",
       "      <td>39</td>\n",
       "      <td>governative</td>\n",
       "      <td>Bachelors</td>\n",
       "      <td>No-relation</td>\n",
       "      <td>White</td>\n",
       "      <td>Male</td>\n",
       "      <td>2174</td>\n",
       "      <td>0</td>\n",
       "      <td>40</td>\n",
       "      <td>&lt;=50K</td>\n",
       "      <td>United-States</td>\n",
       "      <td>3.663562</td>\n",
       "    </tr>\n",
       "    <tr>\n",
       "      <th>1</th>\n",
       "      <td>50</td>\n",
       "      <td>Self-emp-not-inc</td>\n",
       "      <td>Bachelors</td>\n",
       "      <td>Married</td>\n",
       "      <td>White</td>\n",
       "      <td>Male</td>\n",
       "      <td>0</td>\n",
       "      <td>0</td>\n",
       "      <td>13</td>\n",
       "      <td>&lt;=50K</td>\n",
       "      <td>United-States</td>\n",
       "      <td>3.912023</td>\n",
       "    </tr>\n",
       "    <tr>\n",
       "      <th>2</th>\n",
       "      <td>38</td>\n",
       "      <td>Private</td>\n",
       "      <td>HS-grad</td>\n",
       "      <td>Divorced</td>\n",
       "      <td>White</td>\n",
       "      <td>Male</td>\n",
       "      <td>0</td>\n",
       "      <td>0</td>\n",
       "      <td>40</td>\n",
       "      <td>&lt;=50K</td>\n",
       "      <td>United-States</td>\n",
       "      <td>3.637586</td>\n",
       "    </tr>\n",
       "    <tr>\n",
       "      <th>3</th>\n",
       "      <td>53</td>\n",
       "      <td>Private</td>\n",
       "      <td>No-Diploma</td>\n",
       "      <td>Married</td>\n",
       "      <td>Black</td>\n",
       "      <td>Male</td>\n",
       "      <td>0</td>\n",
       "      <td>0</td>\n",
       "      <td>40</td>\n",
       "      <td>&lt;=50K</td>\n",
       "      <td>United-States</td>\n",
       "      <td>3.970292</td>\n",
       "    </tr>\n",
       "    <tr>\n",
       "      <th>4</th>\n",
       "      <td>28</td>\n",
       "      <td>Private</td>\n",
       "      <td>Bachelors</td>\n",
       "      <td>Married</td>\n",
       "      <td>Black</td>\n",
       "      <td>Female</td>\n",
       "      <td>0</td>\n",
       "      <td>0</td>\n",
       "      <td>40</td>\n",
       "      <td>&lt;=50K</td>\n",
       "      <td>No United-States</td>\n",
       "      <td>3.332205</td>\n",
       "    </tr>\n",
       "    <tr>\n",
       "      <th>...</th>\n",
       "      <td>...</td>\n",
       "      <td>...</td>\n",
       "      <td>...</td>\n",
       "      <td>...</td>\n",
       "      <td>...</td>\n",
       "      <td>...</td>\n",
       "      <td>...</td>\n",
       "      <td>...</td>\n",
       "      <td>...</td>\n",
       "      <td>...</td>\n",
       "      <td>...</td>\n",
       "      <td>...</td>\n",
       "    </tr>\n",
       "    <tr>\n",
       "      <th>32556</th>\n",
       "      <td>27</td>\n",
       "      <td>Private</td>\n",
       "      <td>Assoc-acdm</td>\n",
       "      <td>Married</td>\n",
       "      <td>White</td>\n",
       "      <td>Female</td>\n",
       "      <td>0</td>\n",
       "      <td>0</td>\n",
       "      <td>38</td>\n",
       "      <td>&lt;=50K</td>\n",
       "      <td>United-States</td>\n",
       "      <td>3.295837</td>\n",
       "    </tr>\n",
       "    <tr>\n",
       "      <th>32557</th>\n",
       "      <td>40</td>\n",
       "      <td>Private</td>\n",
       "      <td>HS-grad</td>\n",
       "      <td>Married</td>\n",
       "      <td>White</td>\n",
       "      <td>Male</td>\n",
       "      <td>0</td>\n",
       "      <td>0</td>\n",
       "      <td>40</td>\n",
       "      <td>&gt;50K</td>\n",
       "      <td>United-States</td>\n",
       "      <td>3.688879</td>\n",
       "    </tr>\n",
       "    <tr>\n",
       "      <th>32558</th>\n",
       "      <td>58</td>\n",
       "      <td>Private</td>\n",
       "      <td>HS-grad</td>\n",
       "      <td>Widowed</td>\n",
       "      <td>White</td>\n",
       "      <td>Female</td>\n",
       "      <td>0</td>\n",
       "      <td>0</td>\n",
       "      <td>40</td>\n",
       "      <td>&lt;=50K</td>\n",
       "      <td>United-States</td>\n",
       "      <td>4.060443</td>\n",
       "    </tr>\n",
       "    <tr>\n",
       "      <th>32559</th>\n",
       "      <td>22</td>\n",
       "      <td>Private</td>\n",
       "      <td>HS-grad</td>\n",
       "      <td>No-relation</td>\n",
       "      <td>White</td>\n",
       "      <td>Male</td>\n",
       "      <td>0</td>\n",
       "      <td>0</td>\n",
       "      <td>20</td>\n",
       "      <td>&lt;=50K</td>\n",
       "      <td>United-States</td>\n",
       "      <td>3.091042</td>\n",
       "    </tr>\n",
       "    <tr>\n",
       "      <th>32560</th>\n",
       "      <td>52</td>\n",
       "      <td>Self-emp-inc</td>\n",
       "      <td>HS-grad</td>\n",
       "      <td>Married</td>\n",
       "      <td>White</td>\n",
       "      <td>Female</td>\n",
       "      <td>15024</td>\n",
       "      <td>0</td>\n",
       "      <td>40</td>\n",
       "      <td>&gt;50K</td>\n",
       "      <td>United-States</td>\n",
       "      <td>3.951244</td>\n",
       "    </tr>\n",
       "  </tbody>\n",
       "</table>\n",
       "<p>32561 rows × 12 columns</p>\n",
       "</div>"
      ],
      "text/plain": [
       "       Age        Tipo_lavoro   Istruzione Stato_sociale   Etnia   Genere  \\\n",
       "0       39        governative    Bachelors   No-relation   White     Male   \n",
       "1       50   Self-emp-not-inc    Bachelors       Married   White     Male   \n",
       "2       38            Private      HS-grad      Divorced   White     Male   \n",
       "3       53            Private   No-Diploma       Married   Black     Male   \n",
       "4       28            Private    Bachelors       Married   Black   Female   \n",
       "...    ...                ...          ...           ...     ...      ...   \n",
       "32556   27            Private   Assoc-acdm       Married   White   Female   \n",
       "32557   40            Private      HS-grad       Married   White     Male   \n",
       "32558   58            Private      HS-grad       Widowed   White   Female   \n",
       "32559   22            Private      HS-grad   No-relation   White     Male   \n",
       "32560   52       Self-emp-inc      HS-grad       Married   White   Female   \n",
       "\n",
       "       Cap_guadagnato  Cap_perso  Ore_settimanali Reddito   Paese_Nativo_cat  \\\n",
       "0                2174          0               40   <=50K      United-States   \n",
       "1                   0          0               13   <=50K      United-States   \n",
       "2                   0          0               40   <=50K      United-States   \n",
       "3                   0          0               40   <=50K      United-States   \n",
       "4                   0          0               40   <=50K   No United-States   \n",
       "...               ...        ...              ...     ...                ...   \n",
       "32556               0          0               38   <=50K      United-States   \n",
       "32557               0          0               40    >50K      United-States   \n",
       "32558               0          0               40   <=50K      United-States   \n",
       "32559               0          0               20   <=50K      United-States   \n",
       "32560           15024          0               40    >50K      United-States   \n",
       "\n",
       "        Age_log  \n",
       "0      3.663562  \n",
       "1      3.912023  \n",
       "2      3.637586  \n",
       "3      3.970292  \n",
       "4      3.332205  \n",
       "...         ...  \n",
       "32556  3.295837  \n",
       "32557  3.688879  \n",
       "32558  4.060443  \n",
       "32559  3.091042  \n",
       "32560  3.951244  \n",
       "\n",
       "[32561 rows x 12 columns]"
      ]
     },
     "execution_count": 38,
     "metadata": {},
     "output_type": "execute_result"
    }
   ],
   "source": [
    "dataset"
   ]
  },
  {
   "cell_type": "markdown",
   "id": "3eb950ce",
   "metadata": {},
   "source": [
    "*Etnia*"
   ]
  },
  {
   "cell_type": "code",
   "execution_count": 39,
   "id": "68859440",
   "metadata": {},
   "outputs": [
    {
     "data": {
      "image/png": "[encoded data removed]",
      "text/plain": [
       "<Figure size 1080x1584 with 2 Axes>"
      ]
     },
     "metadata": {
      "needs_background": "light"
     },
     "output_type": "display_data"
    }
   ],
   "source": [
    "Etnia, tabella_cont_etnia = analisi_variabili_categoriche(dataset, \"Etnia\",\"Reddito\")"
   ]
  },
  {
   "cell_type": "code",
   "execution_count": 40,
   "id": "e925949b",
   "metadata": {},
   "outputs": [
    {
     "data": {
      "text/plain": [
       "( White                 0.854274\n",
       "  Black                 0.095943\n",
       "  Asian-Pac-Islander    0.031909\n",
       "  Amer-Indian-Eskimo    0.009551\n",
       "  Other                 0.008323\n",
       " Name: Etnia, dtype: float64,\n",
       " Reddito                 <=50K      >50K\n",
       " Etnia                                  \n",
       "  Amer-Indian-Eskimo  0.884244  0.115756\n",
       "  Asian-Pac-Islander  0.734360  0.265640\n",
       "  Black               0.876120  0.123880\n",
       "  Other               0.907749  0.092251\n",
       "  White               0.744140  0.255860)"
      ]
     },
     "execution_count": 40,
     "metadata": {},
     "output_type": "execute_result"
    }
   ],
   "source": [
    "Etnia, tabella_cont_etnia"
   ]
  },
  {
   "cell_type": "code",
   "execution_count": 41,
   "id": "21b4e141",
   "metadata": {},
   "outputs": [
    {
     "data": {
      "text/html": [
       "<div>\n",
       "<style scoped>\n",
       "    .dataframe tbody tr th:only-of-type {\n",
       "        vertical-align: middle;\n",
       "    }\n",
       "\n",
       "    .dataframe tbody tr th {\n",
       "        vertical-align: top;\n",
       "    }\n",
       "\n",
       "    .dataframe thead th {\n",
       "        text-align: right;\n",
       "    }\n",
       "</style>\n",
       "<table border=\"1\" class=\"dataframe\">\n",
       "  <thead>\n",
       "    <tr style=\"text-align: right;\">\n",
       "      <th></th>\n",
       "      <th>p_value</th>\n",
       "      <th>sign_0.01</th>\n",
       "    </tr>\n",
       "  </thead>\n",
       "  <tbody>\n",
       "    <tr>\n",
       "      <th>chi2</th>\n",
       "      <td>2.305961e-70</td>\n",
       "      <td>True</td>\n",
       "    </tr>\n",
       "  </tbody>\n",
       "</table>\n",
       "</div>"
      ],
      "text/plain": [
       "           p_value  sign_0.01\n",
       "chi2  2.305961e-70       True"
      ]
     },
     "execution_count": 41,
     "metadata": {},
     "output_type": "execute_result"
    }
   ],
   "source": [
    "dipendenza_correlazione(dataset, \"Etnia\",\"Reddito\", p_value_lv = 0.01)"
   ]
  },
  {
   "cell_type": "markdown",
   "id": "18a39ff4",
   "metadata": {},
   "source": [
    "*Dall'analisi si evince:*\n",
    "* L'85% della popolazione è bianca, residuali le altre etnie\n",
    "\n",
    "*Procediamo:*\n",
    "* Accorpando la categoria Amer-Indian-Eskimo con la categoria \"Other\", poichè presentano una percentuale molto residuale dell'intero dataset.  "
   ]
  },
  {
   "cell_type": "code",
   "execution_count": 42,
   "id": "24ad90b2",
   "metadata": {},
   "outputs": [],
   "source": [
    "dataset = unificazione_categorie(dataset, \"Etnia\", [\" Amer-Indian-Eskimo\"], \" Other\")"
   ]
  },
  {
   "cell_type": "markdown",
   "id": "1cf048f0",
   "metadata": {},
   "source": [
    "*Genere*"
   ]
  },
  {
   "cell_type": "code",
   "execution_count": 43,
   "id": "af1fcc08",
   "metadata": {},
   "outputs": [
    {
     "data": {
      "text/html": [
       "<div>\n",
       "<style scoped>\n",
       "    .dataframe tbody tr th:only-of-type {\n",
       "        vertical-align: middle;\n",
       "    }\n",
       "\n",
       "    .dataframe tbody tr th {\n",
       "        vertical-align: top;\n",
       "    }\n",
       "\n",
       "    .dataframe thead th {\n",
       "        text-align: right;\n",
       "    }\n",
       "</style>\n",
       "<table border=\"1\" class=\"dataframe\">\n",
       "  <thead>\n",
       "    <tr style=\"text-align: right;\">\n",
       "      <th></th>\n",
       "      <th>p_value</th>\n",
       "      <th>sign_0.05</th>\n",
       "    </tr>\n",
       "  </thead>\n",
       "  <tbody>\n",
       "    <tr>\n",
       "      <th>chi2</th>\n",
       "      <td>0.0</td>\n",
       "      <td>True</td>\n",
       "    </tr>\n",
       "  </tbody>\n",
       "</table>\n",
       "</div>"
      ],
      "text/plain": [
       "      p_value  sign_0.05\n",
       "chi2      0.0       True"
      ]
     },
     "execution_count": 43,
     "metadata": {},
     "output_type": "execute_result"
    }
   ],
   "source": [
    "dipendenza_correlazione(dataset, \"Genere\",\"Reddito\") #Rifiutiamo ipotesi di dipendenza "
   ]
  },
  {
   "cell_type": "code",
   "execution_count": 44,
   "id": "770a5920",
   "metadata": {},
   "outputs": [
    {
     "data": {
      "image/png": "[encoded data removed]",
      "text/plain": [
       "<Figure size 1080x1584 with 2 Axes>"
      ]
     },
     "metadata": {
      "needs_background": "light"
     },
     "output_type": "display_data"
    }
   ],
   "source": [
    "Genere, tabella_cont_gen = analisi_variabili_categoriche(dataset, \"Genere\",\"Reddito\")"
   ]
  },
  {
   "cell_type": "code",
   "execution_count": 45,
   "id": "a8aadf1e",
   "metadata": {},
   "outputs": [
    {
     "data": {
      "text/plain": [
       " Male      0.669205\n",
       " Female    0.330795\n",
       "Name: Genere, dtype: float64"
      ]
     },
     "execution_count": 45,
     "metadata": {},
     "output_type": "execute_result"
    }
   ],
   "source": [
    "Genere"
   ]
  },
  {
   "cell_type": "code",
   "execution_count": 46,
   "id": "526fff36",
   "metadata": {},
   "outputs": [
    {
     "data": {
      "text/html": [
       "<div>\n",
       "<style scoped>\n",
       "    .dataframe tbody tr th:only-of-type {\n",
       "        vertical-align: middle;\n",
       "    }\n",
       "\n",
       "    .dataframe tbody tr th {\n",
       "        vertical-align: top;\n",
       "    }\n",
       "\n",
       "    .dataframe thead th {\n",
       "        text-align: right;\n",
       "    }\n",
       "</style>\n",
       "<table border=\"1\" class=\"dataframe\">\n",
       "  <thead>\n",
       "    <tr style=\"text-align: right;\">\n",
       "      <th>Reddito</th>\n",
       "      <th>&lt;=50K</th>\n",
       "      <th>&gt;50K</th>\n",
       "    </tr>\n",
       "    <tr>\n",
       "      <th>Genere</th>\n",
       "      <th></th>\n",
       "      <th></th>\n",
       "    </tr>\n",
       "  </thead>\n",
       "  <tbody>\n",
       "    <tr>\n",
       "      <th>Female</th>\n",
       "      <td>0.890539</td>\n",
       "      <td>0.109461</td>\n",
       "    </tr>\n",
       "    <tr>\n",
       "      <th>Male</th>\n",
       "      <td>0.694263</td>\n",
       "      <td>0.305737</td>\n",
       "    </tr>\n",
       "  </tbody>\n",
       "</table>\n",
       "</div>"
      ],
      "text/plain": [
       "Reddito     <=50K      >50K\n",
       "Genere                     \n",
       " Female  0.890539  0.109461\n",
       " Male    0.694263  0.305737"
      ]
     },
     "execution_count": 46,
     "metadata": {},
     "output_type": "execute_result"
    }
   ],
   "source": [
    "tabella_cont_gen"
   ]
  },
  {
   "cell_type": "markdown",
   "id": "499dc50b",
   "metadata": {},
   "source": [
    "*Dall'analisi si osserva:*\n",
    "* Il 66% del dataset è maschio\n",
    "* Discriminazione di genere: solo l'11 % del campione femminile presenta un reddito maggiore di 50k, tale percentuale sale al 30% se consideriamo gli uomini"
   ]
  },
  {
   "cell_type": "markdown",
   "id": "68dc3450",
   "metadata": {},
   "source": [
    "*Cap_guadagnato e Cap_perso*"
   ]
  },
  {
   "cell_type": "markdown",
   "id": "26b8f413",
   "metadata": {},
   "source": [
    "*Sono due variabili legate, poichè esprimono la quantità di capitale guadagnata o perso da ciascuna osservazione*\n",
    "\n",
    "*Trattamento: le uniamo fornendo un'unico valore dal nome \"Capitale_totale\"*"
   ]
  },
  {
   "cell_type": "code",
   "execution_count": 47,
   "id": "21b2c804",
   "metadata": {},
   "outputs": [],
   "source": [
    "dataset[\"Capitale_totale\"] = dataset[\"Cap_guadagnato\"] - dataset[\"Cap_perso\"]"
   ]
  },
  {
   "cell_type": "code",
   "execution_count": 48,
   "id": "77ee5720",
   "metadata": {},
   "outputs": [],
   "source": [
    "dataset.drop([\"Cap_guadagnato\",\"Cap_perso\"], axis = 1, inplace = True)"
   ]
  },
  {
   "cell_type": "code",
   "execution_count": 49,
   "id": "065de044",
   "metadata": {},
   "outputs": [
    {
     "name": "stderr",
     "output_type": "stream",
     "text": [
      "C:\\ProgramData\\Anaconda3\\lib\\site-packages\\seaborn\\_decorators.py:36: FutureWarning: Pass the following variable as a keyword arg: x. From version 0.12, the only valid positional argument will be `data`, and passing other arguments without an explicit keyword will result in an error or misinterpretation.\n",
      "  warnings.warn(\n"
     ]
    },
    {
     "data": {
      "image/png": "[encoded data removed]",
      "text/plain": [
       "<Figure size 1008x576 with 2 Axes>"
      ]
     },
     "metadata": {
      "needs_background": "light"
     },
     "output_type": "display_data"
    }
   ],
   "source": [
    "Capitale = plot_var_num(dataset, \"Capitale_totale\")"
   ]
  },
  {
   "cell_type": "code",
   "execution_count": 50,
   "id": "b46f3836",
   "metadata": {},
   "outputs": [
    {
     "data": {
      "text/plain": [
       " >50K     773\n",
       " <=50K    746\n",
       "Name: Reddito, dtype: int64"
      ]
     },
     "execution_count": 50,
     "metadata": {},
     "output_type": "execute_result"
    }
   ],
   "source": [
    "dataset[dataset[\"Capitale_totale\"] < 0 ][\"Reddito\"].value_counts()"
   ]
  },
  {
   "cell_type": "code",
   "execution_count": 51,
   "id": "753048d8",
   "metadata": {},
   "outputs": [
    {
     "data": {
      "text/plain": [
       " <=50K    22939\n",
       " >50K      5391\n",
       "Name: Reddito, dtype: int64"
      ]
     },
     "execution_count": 51,
     "metadata": {},
     "output_type": "execute_result"
    }
   ],
   "source": [
    "dataset[dataset[\"Capitale_totale\"] == 0 ][\"Reddito\"].value_counts()"
   ]
  },
  {
   "cell_type": "code",
   "execution_count": 52,
   "id": "b294b446",
   "metadata": {},
   "outputs": [
    {
     "data": {
      "text/plain": [
       " >50K     1677\n",
       " <=50K    1035\n",
       "Name: Reddito, dtype: int64"
      ]
     },
     "execution_count": 52,
     "metadata": {},
     "output_type": "execute_result"
    }
   ],
   "source": [
    "dataset[dataset[\"Capitale_totale\"] > 0 ][\"Reddito\"].value_counts()"
   ]
  },
  {
   "cell_type": "markdown",
   "id": "bdc5d4fb",
   "metadata": {},
   "source": [
    "*Dall'analisi si evince come la maggior parte della popolazione abbia un capitale pari a 0. Inoltre, per coloro che posseggono un capitale guadagnato o capitale perso, non si osserva un'informazione aggiuntiva in merito alle possibilità che il reddito sia maggiore o minore di 50k. Procediamo quindi alla cancellazione della variabile*"
   ]
  },
  {
   "cell_type": "code",
   "execution_count": 53,
   "id": "79c9c215",
   "metadata": {},
   "outputs": [],
   "source": [
    "dataset.drop(\"Capitale_totale\", axis = 1, inplace = True)"
   ]
  },
  {
   "cell_type": "code",
   "execution_count": 54,
   "id": "17bc4896",
   "metadata": {},
   "outputs": [
    {
     "data": {
      "text/html": [
       "<div>\n",
       "<style scoped>\n",
       "    .dataframe tbody tr th:only-of-type {\n",
       "        vertical-align: middle;\n",
       "    }\n",
       "\n",
       "    .dataframe tbody tr th {\n",
       "        vertical-align: top;\n",
       "    }\n",
       "\n",
       "    .dataframe thead th {\n",
       "        text-align: right;\n",
       "    }\n",
       "</style>\n",
       "<table border=\"1\" class=\"dataframe\">\n",
       "  <thead>\n",
       "    <tr style=\"text-align: right;\">\n",
       "      <th></th>\n",
       "      <th>Age</th>\n",
       "      <th>Tipo_lavoro</th>\n",
       "      <th>Istruzione</th>\n",
       "      <th>Stato_sociale</th>\n",
       "      <th>Etnia</th>\n",
       "      <th>Genere</th>\n",
       "      <th>Ore_settimanali</th>\n",
       "      <th>Reddito</th>\n",
       "      <th>Paese_Nativo_cat</th>\n",
       "      <th>Age_log</th>\n",
       "    </tr>\n",
       "  </thead>\n",
       "  <tbody>\n",
       "    <tr>\n",
       "      <th>0</th>\n",
       "      <td>39</td>\n",
       "      <td>governative</td>\n",
       "      <td>Bachelors</td>\n",
       "      <td>No-relation</td>\n",
       "      <td>White</td>\n",
       "      <td>Male</td>\n",
       "      <td>40</td>\n",
       "      <td>&lt;=50K</td>\n",
       "      <td>United-States</td>\n",
       "      <td>3.663562</td>\n",
       "    </tr>\n",
       "    <tr>\n",
       "      <th>1</th>\n",
       "      <td>50</td>\n",
       "      <td>Self-emp-not-inc</td>\n",
       "      <td>Bachelors</td>\n",
       "      <td>Married</td>\n",
       "      <td>White</td>\n",
       "      <td>Male</td>\n",
       "      <td>13</td>\n",
       "      <td>&lt;=50K</td>\n",
       "      <td>United-States</td>\n",
       "      <td>3.912023</td>\n",
       "    </tr>\n",
       "    <tr>\n",
       "      <th>2</th>\n",
       "      <td>38</td>\n",
       "      <td>Private</td>\n",
       "      <td>HS-grad</td>\n",
       "      <td>Divorced</td>\n",
       "      <td>White</td>\n",
       "      <td>Male</td>\n",
       "      <td>40</td>\n",
       "      <td>&lt;=50K</td>\n",
       "      <td>United-States</td>\n",
       "      <td>3.637586</td>\n",
       "    </tr>\n",
       "    <tr>\n",
       "      <th>3</th>\n",
       "      <td>53</td>\n",
       "      <td>Private</td>\n",
       "      <td>No-Diploma</td>\n",
       "      <td>Married</td>\n",
       "      <td>Black</td>\n",
       "      <td>Male</td>\n",
       "      <td>40</td>\n",
       "      <td>&lt;=50K</td>\n",
       "      <td>United-States</td>\n",
       "      <td>3.970292</td>\n",
       "    </tr>\n",
       "    <tr>\n",
       "      <th>4</th>\n",
       "      <td>28</td>\n",
       "      <td>Private</td>\n",
       "      <td>Bachelors</td>\n",
       "      <td>Married</td>\n",
       "      <td>Black</td>\n",
       "      <td>Female</td>\n",
       "      <td>40</td>\n",
       "      <td>&lt;=50K</td>\n",
       "      <td>No United-States</td>\n",
       "      <td>3.332205</td>\n",
       "    </tr>\n",
       "    <tr>\n",
       "      <th>...</th>\n",
       "      <td>...</td>\n",
       "      <td>...</td>\n",
       "      <td>...</td>\n",
       "      <td>...</td>\n",
       "      <td>...</td>\n",
       "      <td>...</td>\n",
       "      <td>...</td>\n",
       "      <td>...</td>\n",
       "      <td>...</td>\n",
       "      <td>...</td>\n",
       "    </tr>\n",
       "    <tr>\n",
       "      <th>32556</th>\n",
       "      <td>27</td>\n",
       "      <td>Private</td>\n",
       "      <td>Assoc-acdm</td>\n",
       "      <td>Married</td>\n",
       "      <td>White</td>\n",
       "      <td>Female</td>\n",
       "      <td>38</td>\n",
       "      <td>&lt;=50K</td>\n",
       "      <td>United-States</td>\n",
       "      <td>3.295837</td>\n",
       "    </tr>\n",
       "    <tr>\n",
       "      <th>32557</th>\n",
       "      <td>40</td>\n",
       "      <td>Private</td>\n",
       "      <td>HS-grad</td>\n",
       "      <td>Married</td>\n",
       "      <td>White</td>\n",
       "      <td>Male</td>\n",
       "      <td>40</td>\n",
       "      <td>&gt;50K</td>\n",
       "      <td>United-States</td>\n",
       "      <td>3.688879</td>\n",
       "    </tr>\n",
       "    <tr>\n",
       "      <th>32558</th>\n",
       "      <td>58</td>\n",
       "      <td>Private</td>\n",
       "      <td>HS-grad</td>\n",
       "      <td>Widowed</td>\n",
       "      <td>White</td>\n",
       "      <td>Female</td>\n",
       "      <td>40</td>\n",
       "      <td>&lt;=50K</td>\n",
       "      <td>United-States</td>\n",
       "      <td>4.060443</td>\n",
       "    </tr>\n",
       "    <tr>\n",
       "      <th>32559</th>\n",
       "      <td>22</td>\n",
       "      <td>Private</td>\n",
       "      <td>HS-grad</td>\n",
       "      <td>No-relation</td>\n",
       "      <td>White</td>\n",
       "      <td>Male</td>\n",
       "      <td>20</td>\n",
       "      <td>&lt;=50K</td>\n",
       "      <td>United-States</td>\n",
       "      <td>3.091042</td>\n",
       "    </tr>\n",
       "    <tr>\n",
       "      <th>32560</th>\n",
       "      <td>52</td>\n",
       "      <td>Self-emp-inc</td>\n",
       "      <td>HS-grad</td>\n",
       "      <td>Married</td>\n",
       "      <td>White</td>\n",
       "      <td>Female</td>\n",
       "      <td>40</td>\n",
       "      <td>&gt;50K</td>\n",
       "      <td>United-States</td>\n",
       "      <td>3.951244</td>\n",
       "    </tr>\n",
       "  </tbody>\n",
       "</table>\n",
       "<p>32561 rows × 10 columns</p>\n",
       "</div>"
      ],
      "text/plain": [
       "       Age        Tipo_lavoro   Istruzione Stato_sociale   Etnia   Genere  \\\n",
       "0       39        governative    Bachelors   No-relation   White     Male   \n",
       "1       50   Self-emp-not-inc    Bachelors       Married   White     Male   \n",
       "2       38            Private      HS-grad      Divorced   White     Male   \n",
       "3       53            Private   No-Diploma       Married   Black     Male   \n",
       "4       28            Private    Bachelors       Married   Black   Female   \n",
       "...    ...                ...          ...           ...     ...      ...   \n",
       "32556   27            Private   Assoc-acdm       Married   White   Female   \n",
       "32557   40            Private      HS-grad       Married   White     Male   \n",
       "32558   58            Private      HS-grad       Widowed   White   Female   \n",
       "32559   22            Private      HS-grad   No-relation   White     Male   \n",
       "32560   52       Self-emp-inc      HS-grad       Married   White   Female   \n",
       "\n",
       "       Ore_settimanali Reddito   Paese_Nativo_cat   Age_log  \n",
       "0                   40   <=50K      United-States  3.663562  \n",
       "1                   13   <=50K      United-States  3.912023  \n",
       "2                   40   <=50K      United-States  3.637586  \n",
       "3                   40   <=50K      United-States  3.970292  \n",
       "4                   40   <=50K   No United-States  3.332205  \n",
       "...                ...     ...                ...       ...  \n",
       "32556               38   <=50K      United-States  3.295837  \n",
       "32557               40    >50K      United-States  3.688879  \n",
       "32558               40   <=50K      United-States  4.060443  \n",
       "32559               20   <=50K      United-States  3.091042  \n",
       "32560               40    >50K      United-States  3.951244  \n",
       "\n",
       "[32561 rows x 10 columns]"
      ]
     },
     "execution_count": 54,
     "metadata": {},
     "output_type": "execute_result"
    }
   ],
   "source": [
    "dataset"
   ]
  },
  {
   "cell_type": "markdown",
   "id": "aaba7f72",
   "metadata": {},
   "source": [
    "*Ore settimanali*"
   ]
  },
  {
   "cell_type": "code",
   "execution_count": 55,
   "id": "55ff7a23",
   "metadata": {},
   "outputs": [
    {
     "data": {
      "text/html": [
       "<div>\n",
       "<style scoped>\n",
       "    .dataframe tbody tr th:only-of-type {\n",
       "        vertical-align: middle;\n",
       "    }\n",
       "\n",
       "    .dataframe tbody tr th {\n",
       "        vertical-align: top;\n",
       "    }\n",
       "\n",
       "    .dataframe thead th {\n",
       "        text-align: right;\n",
       "    }\n",
       "</style>\n",
       "<table border=\"1\" class=\"dataframe\">\n",
       "  <thead>\n",
       "    <tr style=\"text-align: right;\">\n",
       "      <th></th>\n",
       "      <th>correlation</th>\n",
       "      <th>p_value</th>\n",
       "      <th>sign_0.05</th>\n",
       "    </tr>\n",
       "  </thead>\n",
       "  <tbody>\n",
       "    <tr>\n",
       "      <th>Kendall</th>\n",
       "      <td>0.238273</td>\n",
       "      <td>0.0</td>\n",
       "      <td>True</td>\n",
       "    </tr>\n",
       "  </tbody>\n",
       "</table>\n",
       "</div>"
      ],
      "text/plain": [
       "         correlation  p_value  sign_0.05\n",
       "Kendall     0.238273      0.0       True"
      ]
     },
     "execution_count": 55,
     "metadata": {},
     "output_type": "execute_result"
    }
   ],
   "source": [
    "dipendenza_correlazione(dataset,\"Ore_settimanali\",\"Reddito\")"
   ]
  },
  {
   "cell_type": "markdown",
   "id": "468cfd9b",
   "metadata": {},
   "source": [
    "*Nonostante il test sia significativo, il coefficiente di correlazione è abbastanza basso. Osserviamo più da vicino.*"
   ]
  },
  {
   "cell_type": "code",
   "execution_count": 56,
   "id": "90c0beff",
   "metadata": {},
   "outputs": [
    {
     "name": "stderr",
     "output_type": "stream",
     "text": [
      "C:\\ProgramData\\Anaconda3\\lib\\site-packages\\seaborn\\_decorators.py:36: FutureWarning: Pass the following variable as a keyword arg: x. From version 0.12, the only valid positional argument will be `data`, and passing other arguments without an explicit keyword will result in an error or misinterpretation.\n",
      "  warnings.warn(\n"
     ]
    },
    {
     "data": {
      "image/png": "[encoded data removed]",
      "text/plain": [
       "<Figure size 1008x576 with 2 Axes>"
      ]
     },
     "metadata": {
      "needs_background": "light"
     },
     "output_type": "display_data"
    }
   ],
   "source": [
    "Ore = plot_var_num(dataset, \"Ore_settimanali\")"
   ]
  },
  {
   "cell_type": "code",
   "execution_count": 57,
   "id": "6a9391c7",
   "metadata": {
    "scrolled": true
   },
   "outputs": [
    {
     "data": {
      "text/plain": [
       "count    32561.000000\n",
       "mean        40.437456\n",
       "std         12.347429\n",
       "min          1.000000\n",
       "25%         40.000000\n",
       "50%         40.000000\n",
       "75%         45.000000\n",
       "max         99.000000\n",
       "Name: Ore_settimanali, dtype: float64"
      ]
     },
     "execution_count": 57,
     "metadata": {},
     "output_type": "execute_result"
    }
   ],
   "source": [
    "Ore"
   ]
  },
  {
   "cell_type": "code",
   "execution_count": 58,
   "id": "8f0eb485",
   "metadata": {},
   "outputs": [
    {
     "data": {
      "image/png": "[encoded data removed]",
      "text/plain": [
       "<Figure size 1440x720 with 2 Axes>"
      ]
     },
     "metadata": {
      "needs_background": "light"
     },
     "output_type": "display_data"
    }
   ],
   "source": [
    "histplot_1_per_categorie(dataset,'Ore_settimanali', 'Reddito',1,2)"
   ]
  },
  {
   "cell_type": "markdown",
   "id": "f6ce76fd",
   "metadata": {},
   "source": [
    "*Dai grafici si osserva:*\n",
    "* La presenza strana di outliers per i quali il numero di ore settimanali risulti essere maggiore di 70 ore (che equivarrebbe a 14 ore settimanali se la settimana lavorativa fosse di 5 giorni di 10 se fosse uguale 10).\n",
    "* Dall'istogramma delle osservazioni suddivise per coloro che hanno un reddito diverso, la distribuzione è molto simile, sintomo di non discriminazione causata dalla quantità di ore lavorative.\n",
    "* Si decide di eliminare la variabile "
   ]
  },
  {
   "cell_type": "code",
   "execution_count": 59,
   "id": "ebf6f441",
   "metadata": {},
   "outputs": [],
   "source": [
    "dataset.drop(\"Ore_settimanali\", axis = 1, inplace = True)"
   ]
  },
  {
   "cell_type": "markdown",
   "id": "9a92799b",
   "metadata": {},
   "source": [
    "*Paese_Nativo_cat*"
   ]
  },
  {
   "cell_type": "code",
   "execution_count": 60,
   "id": "03a6dfb4",
   "metadata": {},
   "outputs": [
    {
     "data": {
      "text/html": [
       "<div>\n",
       "<style scoped>\n",
       "    .dataframe tbody tr th:only-of-type {\n",
       "        vertical-align: middle;\n",
       "    }\n",
       "\n",
       "    .dataframe tbody tr th {\n",
       "        vertical-align: top;\n",
       "    }\n",
       "\n",
       "    .dataframe thead th {\n",
       "        text-align: right;\n",
       "    }\n",
       "</style>\n",
       "<table border=\"1\" class=\"dataframe\">\n",
       "  <thead>\n",
       "    <tr style=\"text-align: right;\">\n",
       "      <th></th>\n",
       "      <th>p_value</th>\n",
       "      <th>sign_0.05</th>\n",
       "    </tr>\n",
       "  </thead>\n",
       "  <tbody>\n",
       "    <tr>\n",
       "      <th>chi2</th>\n",
       "      <td>4.705929e-12</td>\n",
       "      <td>True</td>\n",
       "    </tr>\n",
       "  </tbody>\n",
       "</table>\n",
       "</div>"
      ],
      "text/plain": [
       "           p_value  sign_0.05\n",
       "chi2  4.705929e-12       True"
      ]
     },
     "execution_count": 60,
     "metadata": {},
     "output_type": "execute_result"
    }
   ],
   "source": [
    "dipendenza_correlazione(dataset,\"Reddito\",\"Paese_Nativo_cat\") #Statisticamente significativo "
   ]
  },
  {
   "cell_type": "code",
   "execution_count": 61,
   "id": "a316a265",
   "metadata": {},
   "outputs": [
    {
     "data": {
      "image/png": "[encoded data removed]",
      "text/plain": [
       "<Figure size 1080x1584 with 2 Axes>"
      ]
     },
     "metadata": {
      "needs_background": "light"
     },
     "output_type": "display_data"
    }
   ],
   "source": [
    "Paese_nativo, tabella_cont_Pn = analisi_variabili_categoriche(dataset,\"Paese_Nativo_cat\",\"Reddito\" )"
   ]
  },
  {
   "cell_type": "code",
   "execution_count": 62,
   "id": "5b3032dc",
   "metadata": {},
   "outputs": [
    {
     "data": {
      "text/plain": [
       "( United-States       0.912196\n",
       "  No United-States    0.087804\n",
       " Name: Paese_Nativo_cat, dtype: float64,\n",
       " Reddito               <=50K      >50K\n",
       " Paese_Nativo_cat                     \n",
       "  No United-States  0.812172  0.187828\n",
       "  United-States     0.754091  0.245909)"
      ]
     },
     "execution_count": 62,
     "metadata": {},
     "output_type": "execute_result"
    }
   ],
   "source": [
    "Paese_nativo, tabella_cont_Pn"
   ]
  },
  {
   "cell_type": "markdown",
   "id": "06c641b3",
   "metadata": {},
   "source": [
    "*Dall'analisi si osserva:* \n",
    "* La grande prevalenza di origini statunitensi (circa il 91%)\n",
    "* Minima discriminazione: una maggiore probabilità di avere un reddito maggiore di 50K se la propria origine è statunitense"
   ]
  },
  {
   "cell_type": "code",
   "execution_count": 63,
   "id": "54112423",
   "metadata": {},
   "outputs": [
    {
     "data": {
      "text/html": [
       "<div>\n",
       "<style scoped>\n",
       "    .dataframe tbody tr th:only-of-type {\n",
       "        vertical-align: middle;\n",
       "    }\n",
       "\n",
       "    .dataframe tbody tr th {\n",
       "        vertical-align: top;\n",
       "    }\n",
       "\n",
       "    .dataframe thead th {\n",
       "        text-align: right;\n",
       "    }\n",
       "</style>\n",
       "<table border=\"1\" class=\"dataframe\">\n",
       "  <thead>\n",
       "    <tr style=\"text-align: right;\">\n",
       "      <th></th>\n",
       "      <th>p_value</th>\n",
       "      <th>sign_0.05</th>\n",
       "    </tr>\n",
       "  </thead>\n",
       "  <tbody>\n",
       "    <tr>\n",
       "      <th>chi2</th>\n",
       "      <td>1.443052e-90</td>\n",
       "      <td>True</td>\n",
       "    </tr>\n",
       "  </tbody>\n",
       "</table>\n",
       "</div>"
      ],
      "text/plain": [
       "           p_value  sign_0.05\n",
       "chi2  1.443052e-90       True"
      ]
     },
     "execution_count": 63,
     "metadata": {},
     "output_type": "execute_result"
    }
   ],
   "source": [
    "dipendenza_correlazione(dataset, \"Stato_sociale\",\"Paese_Nativo_cat\")"
   ]
  },
  {
   "cell_type": "code",
   "execution_count": 64,
   "id": "c263d824",
   "metadata": {},
   "outputs": [
    {
     "data": {
      "text/html": [
       "<div>\n",
       "<style scoped>\n",
       "    .dataframe tbody tr th:only-of-type {\n",
       "        vertical-align: middle;\n",
       "    }\n",
       "\n",
       "    .dataframe tbody tr th {\n",
       "        vertical-align: top;\n",
       "    }\n",
       "\n",
       "    .dataframe thead th {\n",
       "        text-align: right;\n",
       "    }\n",
       "</style>\n",
       "<table border=\"1\" class=\"dataframe\">\n",
       "  <thead>\n",
       "    <tr style=\"text-align: right;\">\n",
       "      <th></th>\n",
       "      <th>Age</th>\n",
       "      <th>Tipo_lavoro</th>\n",
       "      <th>Istruzione</th>\n",
       "      <th>Stato_sociale</th>\n",
       "      <th>Etnia</th>\n",
       "      <th>Genere</th>\n",
       "      <th>Reddito</th>\n",
       "      <th>Paese_Nativo_cat</th>\n",
       "      <th>Age_log</th>\n",
       "    </tr>\n",
       "  </thead>\n",
       "  <tbody>\n",
       "    <tr>\n",
       "      <th>0</th>\n",
       "      <td>39</td>\n",
       "      <td>governative</td>\n",
       "      <td>Bachelors</td>\n",
       "      <td>No-relation</td>\n",
       "      <td>White</td>\n",
       "      <td>Male</td>\n",
       "      <td>&lt;=50K</td>\n",
       "      <td>United-States</td>\n",
       "      <td>3.663562</td>\n",
       "    </tr>\n",
       "    <tr>\n",
       "      <th>1</th>\n",
       "      <td>50</td>\n",
       "      <td>Self-emp-not-inc</td>\n",
       "      <td>Bachelors</td>\n",
       "      <td>Married</td>\n",
       "      <td>White</td>\n",
       "      <td>Male</td>\n",
       "      <td>&lt;=50K</td>\n",
       "      <td>United-States</td>\n",
       "      <td>3.912023</td>\n",
       "    </tr>\n",
       "    <tr>\n",
       "      <th>2</th>\n",
       "      <td>38</td>\n",
       "      <td>Private</td>\n",
       "      <td>HS-grad</td>\n",
       "      <td>Divorced</td>\n",
       "      <td>White</td>\n",
       "      <td>Male</td>\n",
       "      <td>&lt;=50K</td>\n",
       "      <td>United-States</td>\n",
       "      <td>3.637586</td>\n",
       "    </tr>\n",
       "    <tr>\n",
       "      <th>3</th>\n",
       "      <td>53</td>\n",
       "      <td>Private</td>\n",
       "      <td>No-Diploma</td>\n",
       "      <td>Married</td>\n",
       "      <td>Black</td>\n",
       "      <td>Male</td>\n",
       "      <td>&lt;=50K</td>\n",
       "      <td>United-States</td>\n",
       "      <td>3.970292</td>\n",
       "    </tr>\n",
       "    <tr>\n",
       "      <th>4</th>\n",
       "      <td>28</td>\n",
       "      <td>Private</td>\n",
       "      <td>Bachelors</td>\n",
       "      <td>Married</td>\n",
       "      <td>Black</td>\n",
       "      <td>Female</td>\n",
       "      <td>&lt;=50K</td>\n",
       "      <td>No United-States</td>\n",
       "      <td>3.332205</td>\n",
       "    </tr>\n",
       "    <tr>\n",
       "      <th>...</th>\n",
       "      <td>...</td>\n",
       "      <td>...</td>\n",
       "      <td>...</td>\n",
       "      <td>...</td>\n",
       "      <td>...</td>\n",
       "      <td>...</td>\n",
       "      <td>...</td>\n",
       "      <td>...</td>\n",
       "      <td>...</td>\n",
       "    </tr>\n",
       "    <tr>\n",
       "      <th>32556</th>\n",
       "      <td>27</td>\n",
       "      <td>Private</td>\n",
       "      <td>Assoc-acdm</td>\n",
       "      <td>Married</td>\n",
       "      <td>White</td>\n",
       "      <td>Female</td>\n",
       "      <td>&lt;=50K</td>\n",
       "      <td>United-States</td>\n",
       "      <td>3.295837</td>\n",
       "    </tr>\n",
       "    <tr>\n",
       "      <th>32557</th>\n",
       "      <td>40</td>\n",
       "      <td>Private</td>\n",
       "      <td>HS-grad</td>\n",
       "      <td>Married</td>\n",
       "      <td>White</td>\n",
       "      <td>Male</td>\n",
       "      <td>&gt;50K</td>\n",
       "      <td>United-States</td>\n",
       "      <td>3.688879</td>\n",
       "    </tr>\n",
       "    <tr>\n",
       "      <th>32558</th>\n",
       "      <td>58</td>\n",
       "      <td>Private</td>\n",
       "      <td>HS-grad</td>\n",
       "      <td>Widowed</td>\n",
       "      <td>White</td>\n",
       "      <td>Female</td>\n",
       "      <td>&lt;=50K</td>\n",
       "      <td>United-States</td>\n",
       "      <td>4.060443</td>\n",
       "    </tr>\n",
       "    <tr>\n",
       "      <th>32559</th>\n",
       "      <td>22</td>\n",
       "      <td>Private</td>\n",
       "      <td>HS-grad</td>\n",
       "      <td>No-relation</td>\n",
       "      <td>White</td>\n",
       "      <td>Male</td>\n",
       "      <td>&lt;=50K</td>\n",
       "      <td>United-States</td>\n",
       "      <td>3.091042</td>\n",
       "    </tr>\n",
       "    <tr>\n",
       "      <th>32560</th>\n",
       "      <td>52</td>\n",
       "      <td>Self-emp-inc</td>\n",
       "      <td>HS-grad</td>\n",
       "      <td>Married</td>\n",
       "      <td>White</td>\n",
       "      <td>Female</td>\n",
       "      <td>&gt;50K</td>\n",
       "      <td>United-States</td>\n",
       "      <td>3.951244</td>\n",
       "    </tr>\n",
       "  </tbody>\n",
       "</table>\n",
       "<p>32561 rows × 9 columns</p>\n",
       "</div>"
      ],
      "text/plain": [
       "       Age        Tipo_lavoro   Istruzione Stato_sociale   Etnia   Genere  \\\n",
       "0       39        governative    Bachelors   No-relation   White     Male   \n",
       "1       50   Self-emp-not-inc    Bachelors       Married   White     Male   \n",
       "2       38            Private      HS-grad      Divorced   White     Male   \n",
       "3       53            Private   No-Diploma       Married   Black     Male   \n",
       "4       28            Private    Bachelors       Married   Black   Female   \n",
       "...    ...                ...          ...           ...     ...      ...   \n",
       "32556   27            Private   Assoc-acdm       Married   White   Female   \n",
       "32557   40            Private      HS-grad       Married   White     Male   \n",
       "32558   58            Private      HS-grad       Widowed   White   Female   \n",
       "32559   22            Private      HS-grad   No-relation   White     Male   \n",
       "32560   52       Self-emp-inc      HS-grad       Married   White   Female   \n",
       "\n",
       "      Reddito   Paese_Nativo_cat   Age_log  \n",
       "0       <=50K      United-States  3.663562  \n",
       "1       <=50K      United-States  3.912023  \n",
       "2       <=50K      United-States  3.637586  \n",
       "3       <=50K      United-States  3.970292  \n",
       "4       <=50K   No United-States  3.332205  \n",
       "...       ...                ...       ...  \n",
       "32556   <=50K      United-States  3.295837  \n",
       "32557    >50K      United-States  3.688879  \n",
       "32558   <=50K      United-States  4.060443  \n",
       "32559   <=50K      United-States  3.091042  \n",
       "32560    >50K      United-States  3.951244  \n",
       "\n",
       "[32561 rows x 9 columns]"
      ]
     },
     "execution_count": 64,
     "metadata": {},
     "output_type": "execute_result"
    }
   ],
   "source": [
    "dataset"
   ]
  },
  {
   "cell_type": "code",
   "execution_count": 65,
   "id": "02b79fa5",
   "metadata": {
    "scrolled": true
   },
   "outputs": [
    {
     "data": {
      "text/plain": [
       " <=50K    0.75919\n",
       " >50K     0.24081\n",
       "Name: Reddito, dtype: float64"
      ]
     },
     "execution_count": 65,
     "metadata": {},
     "output_type": "execute_result"
    },
    {
     "data": {
      "image/png": "[encoded data removed]",
      "text/plain": [
       "<Figure size 1080x1584 with 2 Axes>"
      ]
     },
     "metadata": {
      "needs_background": "light"
     },
     "output_type": "display_data"
    }
   ],
   "source": [
    "Reddito, tabella_cont = analisi_variabili_categoriche(dataset, \"Reddito\",\"Reddito\")\n",
    "Reddito"
   ]
  },
  {
   "cell_type": "markdown",
   "id": "bc4f51b5",
   "metadata": {},
   "source": [
    "*Dall'analisi si evince che il dataset non è bilanciato: Difatti il 75% del campione ha un reddito inferiore ai 50k annuali*"
   ]
  },
  {
   "cell_type": "markdown",
   "id": "d0ceaf6a",
   "metadata": {},
   "source": [
    "*Alla fine dell'analisi descrittiva, decidiamo di considerare considerando le seguenti variabili:* \n",
    "* Tipo_lavoro\n",
    "* Istruzione\n",
    "* Stato_sociale\t\n",
    "* Etnia\n",
    "* Genere\n",
    "* Paese_Nativo_cat\n",
    "* Age_log\n"
   ]
  },
  {
   "cell_type": "markdown",
   "id": "94029183",
   "metadata": {},
   "source": [
    "*Sono quindi state eliminate le seguenti variabili*:\n",
    "* Condizione_familiare\n",
    "* fnlwgt\n",
    "* Anni_istruzione\n",
    "* Cap_guadagnato\n",
    "* Cap_perso\n",
    "* Ore_settimanali\n"
   ]
  },
  {
   "cell_type": "code",
   "execution_count": 66,
   "id": "61768b73",
   "metadata": {},
   "outputs": [],
   "source": [
    "dataset.drop(\"Age\",axis = 1, inplace=True)"
   ]
  },
  {
   "cell_type": "markdown",
   "id": "d229238d",
   "metadata": {},
   "source": [
    "*Salviamo il dataset*"
   ]
  },
  {
   "cell_type": "code",
   "execution_count": 67,
   "id": "bb80df4f",
   "metadata": {},
   "outputs": [
    {
     "name": "stdout",
     "output_type": "stream",
     "text": [
      "C:\\Users\\pasqu\\Progetto_dataset_adult\\Datasets\n"
     ]
    }
   ],
   "source": [
    "#%cd ../Datasets\n",
    "#dataset.to_csv(\"dataset_dopo_descrit\")"
   ]
  }
 ],
 "metadata": {
  "kernelspec": {
   "display_name": "Python 3",
   "language": "python",
   "name": "python3"
  },
  "language_info": {
   "codemirror_mode": {
    "name": "ipython",
    "version": 3
   },
   "file_extension": ".py",
   "mimetype": "text/x-python",
   "name": "python",
   "nbconvert_exporter": "python",
   "pygments_lexer": "ipython3",
   "version": "3.8.8"
  }
 },
 "nbformat": 4,
 "nbformat_minor": 5
}
