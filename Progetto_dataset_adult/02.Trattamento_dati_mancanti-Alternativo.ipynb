{
 "cells": [
  {
   "cell_type": "code",
   "execution_count": 1,
   "id": "bdcdf8f5",
   "metadata": {},
   "outputs": [
    {
     "name": "stdout",
     "output_type": "stream",
     "text": [
      "C:\\Users\\pasqu\\Progetto_dataset_adult\\Utils\n"
     ]
    }
   ],
   "source": [
    "%cd Utils/"
   ]
  },
  {
   "cell_type": "markdown",
   "id": "1c13f345",
   "metadata": {},
   "source": [
    "*Importiamo le librerie necessarie*"
   ]
  },
  {
   "cell_type": "code",
   "execution_count": 2,
   "id": "c2930b0e",
   "metadata": {},
   "outputs": [],
   "source": [
    "#Librerie DS\n",
    "import numpy as np\n",
    "import pandas as pd\n",
    "\n",
    "#Librerie proprie\n",
    "from Import_e_info import *\n",
    "from Trattamento_dati_mancanti import *"
   ]
  },
  {
   "cell_type": "markdown",
   "id": "7270d07c",
   "metadata": {},
   "source": [
    "**Caricamento**"
   ]
  },
  {
   "cell_type": "code",
   "execution_count": 3,
   "id": "76de4ea2",
   "metadata": {},
   "outputs": [],
   "source": [
    "dataset = caricamento_dataset(\"../Datasets/adult.data\")"
   ]
  },
  {
   "cell_type": "code",
   "execution_count": 4,
   "id": "6b223fb8",
   "metadata": {},
   "outputs": [
    {
     "data": {
      "text/html": [
       "<div>\n",
       "<style scoped>\n",
       "    .dataframe tbody tr th:only-of-type {\n",
       "        vertical-align: middle;\n",
       "    }\n",
       "\n",
       "    .dataframe tbody tr th {\n",
       "        vertical-align: top;\n",
       "    }\n",
       "\n",
       "    .dataframe thead th {\n",
       "        text-align: right;\n",
       "    }\n",
       "</style>\n",
       "<table border=\"1\" class=\"dataframe\">\n",
       "  <thead>\n",
       "    <tr style=\"text-align: right;\">\n",
       "      <th></th>\n",
       "      <th>Age</th>\n",
       "      <th>Tipo_lavoro</th>\n",
       "      <th>fnlwgt</th>\n",
       "      <th>Istruzione</th>\n",
       "      <th>Anni_istruzione</th>\n",
       "      <th>Stato_sociale</th>\n",
       "      <th>Occupazione</th>\n",
       "      <th>Condizione_familiare</th>\n",
       "      <th>Etnia</th>\n",
       "      <th>Genere</th>\n",
       "      <th>Cap_guadagnato</th>\n",
       "      <th>Cap_perso</th>\n",
       "      <th>Ore_settimanali</th>\n",
       "      <th>Paese_nativo</th>\n",
       "      <th>Reddito</th>\n",
       "    </tr>\n",
       "  </thead>\n",
       "  <tbody>\n",
       "    <tr>\n",
       "      <th>0</th>\n",
       "      <td>39</td>\n",
       "      <td>State-gov</td>\n",
       "      <td>77516</td>\n",
       "      <td>Bachelors</td>\n",
       "      <td>13</td>\n",
       "      <td>Never-married</td>\n",
       "      <td>Adm-clerical</td>\n",
       "      <td>Not-in-family</td>\n",
       "      <td>White</td>\n",
       "      <td>Male</td>\n",
       "      <td>2174</td>\n",
       "      <td>0</td>\n",
       "      <td>40</td>\n",
       "      <td>United-States</td>\n",
       "      <td>&lt;=50K</td>\n",
       "    </tr>\n",
       "    <tr>\n",
       "      <th>1</th>\n",
       "      <td>50</td>\n",
       "      <td>Self-emp-not-inc</td>\n",
       "      <td>83311</td>\n",
       "      <td>Bachelors</td>\n",
       "      <td>13</td>\n",
       "      <td>Married-civ-spouse</td>\n",
       "      <td>Exec-managerial</td>\n",
       "      <td>Husband</td>\n",
       "      <td>White</td>\n",
       "      <td>Male</td>\n",
       "      <td>0</td>\n",
       "      <td>0</td>\n",
       "      <td>13</td>\n",
       "      <td>United-States</td>\n",
       "      <td>&lt;=50K</td>\n",
       "    </tr>\n",
       "    <tr>\n",
       "      <th>2</th>\n",
       "      <td>38</td>\n",
       "      <td>Private</td>\n",
       "      <td>215646</td>\n",
       "      <td>HS-grad</td>\n",
       "      <td>9</td>\n",
       "      <td>Divorced</td>\n",
       "      <td>Handlers-cleaners</td>\n",
       "      <td>Not-in-family</td>\n",
       "      <td>White</td>\n",
       "      <td>Male</td>\n",
       "      <td>0</td>\n",
       "      <td>0</td>\n",
       "      <td>40</td>\n",
       "      <td>United-States</td>\n",
       "      <td>&lt;=50K</td>\n",
       "    </tr>\n",
       "    <tr>\n",
       "      <th>3</th>\n",
       "      <td>53</td>\n",
       "      <td>Private</td>\n",
       "      <td>234721</td>\n",
       "      <td>11th</td>\n",
       "      <td>7</td>\n",
       "      <td>Married-civ-spouse</td>\n",
       "      <td>Handlers-cleaners</td>\n",
       "      <td>Husband</td>\n",
       "      <td>Black</td>\n",
       "      <td>Male</td>\n",
       "      <td>0</td>\n",
       "      <td>0</td>\n",
       "      <td>40</td>\n",
       "      <td>United-States</td>\n",
       "      <td>&lt;=50K</td>\n",
       "    </tr>\n",
       "    <tr>\n",
       "      <th>4</th>\n",
       "      <td>28</td>\n",
       "      <td>Private</td>\n",
       "      <td>338409</td>\n",
       "      <td>Bachelors</td>\n",
       "      <td>13</td>\n",
       "      <td>Married-civ-spouse</td>\n",
       "      <td>Prof-specialty</td>\n",
       "      <td>Wife</td>\n",
       "      <td>Black</td>\n",
       "      <td>Female</td>\n",
       "      <td>0</td>\n",
       "      <td>0</td>\n",
       "      <td>40</td>\n",
       "      <td>Cuba</td>\n",
       "      <td>&lt;=50K</td>\n",
       "    </tr>\n",
       "    <tr>\n",
       "      <th>...</th>\n",
       "      <td>...</td>\n",
       "      <td>...</td>\n",
       "      <td>...</td>\n",
       "      <td>...</td>\n",
       "      <td>...</td>\n",
       "      <td>...</td>\n",
       "      <td>...</td>\n",
       "      <td>...</td>\n",
       "      <td>...</td>\n",
       "      <td>...</td>\n",
       "      <td>...</td>\n",
       "      <td>...</td>\n",
       "      <td>...</td>\n",
       "      <td>...</td>\n",
       "      <td>...</td>\n",
       "    </tr>\n",
       "    <tr>\n",
       "      <th>32556</th>\n",
       "      <td>27</td>\n",
       "      <td>Private</td>\n",
       "      <td>257302</td>\n",
       "      <td>Assoc-acdm</td>\n",
       "      <td>12</td>\n",
       "      <td>Married-civ-spouse</td>\n",
       "      <td>Tech-support</td>\n",
       "      <td>Wife</td>\n",
       "      <td>White</td>\n",
       "      <td>Female</td>\n",
       "      <td>0</td>\n",
       "      <td>0</td>\n",
       "      <td>38</td>\n",
       "      <td>United-States</td>\n",
       "      <td>&lt;=50K</td>\n",
       "    </tr>\n",
       "    <tr>\n",
       "      <th>32557</th>\n",
       "      <td>40</td>\n",
       "      <td>Private</td>\n",
       "      <td>154374</td>\n",
       "      <td>HS-grad</td>\n",
       "      <td>9</td>\n",
       "      <td>Married-civ-spouse</td>\n",
       "      <td>Machine-op-inspct</td>\n",
       "      <td>Husband</td>\n",
       "      <td>White</td>\n",
       "      <td>Male</td>\n",
       "      <td>0</td>\n",
       "      <td>0</td>\n",
       "      <td>40</td>\n",
       "      <td>United-States</td>\n",
       "      <td>&gt;50K</td>\n",
       "    </tr>\n",
       "    <tr>\n",
       "      <th>32558</th>\n",
       "      <td>58</td>\n",
       "      <td>Private</td>\n",
       "      <td>151910</td>\n",
       "      <td>HS-grad</td>\n",
       "      <td>9</td>\n",
       "      <td>Widowed</td>\n",
       "      <td>Adm-clerical</td>\n",
       "      <td>Unmarried</td>\n",
       "      <td>White</td>\n",
       "      <td>Female</td>\n",
       "      <td>0</td>\n",
       "      <td>0</td>\n",
       "      <td>40</td>\n",
       "      <td>United-States</td>\n",
       "      <td>&lt;=50K</td>\n",
       "    </tr>\n",
       "    <tr>\n",
       "      <th>32559</th>\n",
       "      <td>22</td>\n",
       "      <td>Private</td>\n",
       "      <td>201490</td>\n",
       "      <td>HS-grad</td>\n",
       "      <td>9</td>\n",
       "      <td>Never-married</td>\n",
       "      <td>Adm-clerical</td>\n",
       "      <td>Own-child</td>\n",
       "      <td>White</td>\n",
       "      <td>Male</td>\n",
       "      <td>0</td>\n",
       "      <td>0</td>\n",
       "      <td>20</td>\n",
       "      <td>United-States</td>\n",
       "      <td>&lt;=50K</td>\n",
       "    </tr>\n",
       "    <tr>\n",
       "      <th>32560</th>\n",
       "      <td>52</td>\n",
       "      <td>Self-emp-inc</td>\n",
       "      <td>287927</td>\n",
       "      <td>HS-grad</td>\n",
       "      <td>9</td>\n",
       "      <td>Married-civ-spouse</td>\n",
       "      <td>Exec-managerial</td>\n",
       "      <td>Wife</td>\n",
       "      <td>White</td>\n",
       "      <td>Female</td>\n",
       "      <td>15024</td>\n",
       "      <td>0</td>\n",
       "      <td>40</td>\n",
       "      <td>United-States</td>\n",
       "      <td>&gt;50K</td>\n",
       "    </tr>\n",
       "  </tbody>\n",
       "</table>\n",
       "<p>32561 rows × 15 columns</p>\n",
       "</div>"
      ],
      "text/plain": [
       "       Age        Tipo_lavoro  fnlwgt   Istruzione  Anni_istruzione  \\\n",
       "0       39          State-gov   77516    Bachelors               13   \n",
       "1       50   Self-emp-not-inc   83311    Bachelors               13   \n",
       "2       38            Private  215646      HS-grad                9   \n",
       "3       53            Private  234721         11th                7   \n",
       "4       28            Private  338409    Bachelors               13   \n",
       "...    ...                ...     ...          ...              ...   \n",
       "32556   27            Private  257302   Assoc-acdm               12   \n",
       "32557   40            Private  154374      HS-grad                9   \n",
       "32558   58            Private  151910      HS-grad                9   \n",
       "32559   22            Private  201490      HS-grad                9   \n",
       "32560   52       Self-emp-inc  287927      HS-grad                9   \n",
       "\n",
       "             Stato_sociale         Occupazione Condizione_familiare   Etnia  \\\n",
       "0            Never-married        Adm-clerical        Not-in-family   White   \n",
       "1       Married-civ-spouse     Exec-managerial              Husband   White   \n",
       "2                 Divorced   Handlers-cleaners        Not-in-family   White   \n",
       "3       Married-civ-spouse   Handlers-cleaners              Husband   Black   \n",
       "4       Married-civ-spouse      Prof-specialty                 Wife   Black   \n",
       "...                    ...                 ...                  ...     ...   \n",
       "32556   Married-civ-spouse        Tech-support                 Wife   White   \n",
       "32557   Married-civ-spouse   Machine-op-inspct              Husband   White   \n",
       "32558              Widowed        Adm-clerical            Unmarried   White   \n",
       "32559        Never-married        Adm-clerical            Own-child   White   \n",
       "32560   Married-civ-spouse     Exec-managerial                 Wife   White   \n",
       "\n",
       "        Genere  Cap_guadagnato  Cap_perso  Ore_settimanali    Paese_nativo  \\\n",
       "0         Male            2174          0               40   United-States   \n",
       "1         Male               0          0               13   United-States   \n",
       "2         Male               0          0               40   United-States   \n",
       "3         Male               0          0               40   United-States   \n",
       "4       Female               0          0               40            Cuba   \n",
       "...        ...             ...        ...              ...             ...   \n",
       "32556   Female               0          0               38   United-States   \n",
       "32557     Male               0          0               40   United-States   \n",
       "32558   Female               0          0               40   United-States   \n",
       "32559     Male               0          0               20   United-States   \n",
       "32560   Female           15024          0               40   United-States   \n",
       "\n",
       "      Reddito  \n",
       "0       <=50K  \n",
       "1       <=50K  \n",
       "2       <=50K  \n",
       "3       <=50K  \n",
       "4       <=50K  \n",
       "...       ...  \n",
       "32556   <=50K  \n",
       "32557    >50K  \n",
       "32558   <=50K  \n",
       "32559   <=50K  \n",
       "32560    >50K  \n",
       "\n",
       "[32561 rows x 15 columns]"
      ]
     },
     "execution_count": 4,
     "metadata": {},
     "output_type": "execute_result"
    }
   ],
   "source": [
    "dataset"
   ]
  },
  {
   "cell_type": "markdown",
   "id": "26c43475",
   "metadata": {},
   "source": [
    "##### Osserviamo l'associazione delle variabili al target #####"
   ]
  },
  {
   "cell_type": "code",
   "execution_count": 5,
   "id": "f1faa34e",
   "metadata": {},
   "outputs": [
    {
     "data": {
      "text/html": [
       "<div>\n",
       "<style scoped>\n",
       "    .dataframe tbody tr th:only-of-type {\n",
       "        vertical-align: middle;\n",
       "    }\n",
       "\n",
       "    .dataframe tbody tr th {\n",
       "        vertical-align: top;\n",
       "    }\n",
       "\n",
       "    .dataframe thead th {\n",
       "        text-align: right;\n",
       "    }\n",
       "</style>\n",
       "<table border=\"1\" class=\"dataframe\">\n",
       "  <thead>\n",
       "    <tr style=\"text-align: right;\">\n",
       "      <th></th>\n",
       "      <th>chi2</th>\n",
       "      <th>p_value</th>\n",
       "      <th>degree of freedom</th>\n",
       "      <th>sign_0.05</th>\n",
       "    </tr>\n",
       "  </thead>\n",
       "  <tbody>\n",
       "    <tr>\n",
       "      <th>Tipo_lavoro</th>\n",
       "      <td>827.718359</td>\n",
       "      <td>1.933848e-174</td>\n",
       "      <td>7</td>\n",
       "      <td>True</td>\n",
       "    </tr>\n",
       "    <tr>\n",
       "      <th>Occupazione</th>\n",
       "      <td>3744.898758</td>\n",
       "      <td>0.000000e+00</td>\n",
       "      <td>13</td>\n",
       "      <td>True</td>\n",
       "    </tr>\n",
       "    <tr>\n",
       "      <th>Paese_nativo</th>\n",
       "      <td>317.087663</td>\n",
       "      <td>8.280446e-45</td>\n",
       "      <td>40</td>\n",
       "      <td>True</td>\n",
       "    </tr>\n",
       "  </tbody>\n",
       "</table>\n",
       "</div>"
      ],
      "text/plain": [
       "                     chi2        p_value  degree of freedom  sign_0.05\n",
       "Tipo_lavoro    827.718359  1.933848e-174                  7       True\n",
       "Occupazione   3744.898758   0.000000e+00                 13       True\n",
       "Paese_nativo   317.087663   8.280446e-45                 40       True"
      ]
     },
     "execution_count": 5,
     "metadata": {},
     "output_type": "execute_result"
    }
   ],
   "source": [
    "test_chiquadro(dataset,dataset.Reddito, [dataset.Tipo_lavoro, dataset.Occupazione, dataset.Paese_nativo],\n",
    "              index = [\"Tipo_lavoro\",\"Occupazione\", \"Paese_nativo\"])"
   ]
  },
  {
   "cell_type": "markdown",
   "id": "fdf8c1dc",
   "metadata": {},
   "source": [
    "##### Sono tutte significativamente dipendenti per un livello dello 0.05, per cui procediamo all'imputazione #####"
   ]
  },
  {
   "cell_type": "markdown",
   "id": "8e97df4d",
   "metadata": {},
   "source": [
    "*Tipo_lavoro*\n",
    "###### Procediamo ad un'imputazione proporzionale dei missing values  ######"
   ]
  },
  {
   "cell_type": "code",
   "execution_count": 6,
   "id": "62316967",
   "metadata": {},
   "outputs": [
    {
     "name": "stdout",
     "output_type": "stream",
     "text": [
      "Il numero di osservazioni per cui non conosciamo il tipo di lavoro praticato è pari a 0.056\n"
     ]
    }
   ],
   "source": [
    "print(\"\"\"Il numero di osservazioni per cui non conosciamo il tipo di lavoro praticato è pari a {:.3f}\"\"\"\\\n",
    "      .format(len(dataset[dataset.Tipo_lavoro.isna()][\"Reddito\"])/len(dataset)))"
   ]
  },
  {
   "cell_type": "code",
   "execution_count": 7,
   "id": "c7e83fc2",
   "metadata": {},
   "outputs": [
    {
     "data": {
      "text/plain": [
       " <=50K    1645\n",
       " >50K      191\n",
       "Name: Reddito, dtype: int64"
      ]
     },
     "execution_count": 7,
     "metadata": {},
     "output_type": "execute_result"
    }
   ],
   "source": [
    "dataset[dataset.Tipo_lavoro.isna()][\"Reddito\"].value_counts()"
   ]
  },
  {
   "cell_type": "markdown",
   "id": "a8aa9bf8",
   "metadata": {},
   "source": [
    "*Il valore percentuale delle osservazioni per cui non conosciamo la categoria del tipo di lavoro è molto\n",
    "simile al tasso di disoccupazione americano del 1994. Data che l'alta quantità di tali osservazioni \n",
    "presenta un reddito minore di 50k, l'idea è sostituire a tali osservazione la condizione di disoccupati*"
   ]
  },
  {
   "cell_type": "code",
   "execution_count": 8,
   "id": "d6709079",
   "metadata": {},
   "outputs": [],
   "source": [
    "dataset[dataset.Tipo_lavoro.isna()] = dataset.fillna({\"Tipo_lavoro\": \" Non occupied\"})"
   ]
  },
  {
   "cell_type": "markdown",
   "id": "c71a0c9a",
   "metadata": {},
   "source": [
    "##### Occupazione #####\n",
    "*Potrebbe darci le stesse informazioni della variabile \"Tipo_lavoro\", per cui prima di procedere facciamo un test del chi2*"
   ]
  },
  {
   "cell_type": "code",
   "execution_count": 9,
   "id": "49fb76a8",
   "metadata": {},
   "outputs": [],
   "source": [
    "associazione_tipo_occ = test_chiquadro(dataset, dataset.Tipo_lavoro, [dataset.Occupazione], \n",
    "                                       index = [\"occupazione\"] )"
   ]
  },
  {
   "cell_type": "code",
   "execution_count": 10,
   "id": "93f70610",
   "metadata": {},
   "outputs": [
    {
     "data": {
      "text/html": [
       "<div>\n",
       "<style scoped>\n",
       "    .dataframe tbody tr th:only-of-type {\n",
       "        vertical-align: middle;\n",
       "    }\n",
       "\n",
       "    .dataframe tbody tr th {\n",
       "        vertical-align: top;\n",
       "    }\n",
       "\n",
       "    .dataframe thead th {\n",
       "        text-align: right;\n",
       "    }\n",
       "</style>\n",
       "<table border=\"1\" class=\"dataframe\">\n",
       "  <thead>\n",
       "    <tr style=\"text-align: right;\">\n",
       "      <th></th>\n",
       "      <th>chi2</th>\n",
       "      <th>p_value</th>\n",
       "      <th>degree of freedom</th>\n",
       "      <th>sign_0.05</th>\n",
       "    </tr>\n",
       "  </thead>\n",
       "  <tbody>\n",
       "    <tr>\n",
       "      <th>occupazione</th>\n",
       "      <td>8599.689028</td>\n",
       "      <td>0.0</td>\n",
       "      <td>78</td>\n",
       "      <td>True</td>\n",
       "    </tr>\n",
       "  </tbody>\n",
       "</table>\n",
       "</div>"
      ],
      "text/plain": [
       "                    chi2  p_value  degree of freedom  sign_0.05\n",
       "occupazione  8599.689028      0.0                 78       True"
      ]
     },
     "execution_count": 10,
     "metadata": {},
     "output_type": "execute_result"
    }
   ],
   "source": [
    "associazione_tipo_occ"
   ]
  },
  {
   "cell_type": "markdown",
   "id": "95ff3c04",
   "metadata": {},
   "source": [
    "*Dato il p-value pari a 0.0 possiamo afferamre che le due variabili siano associate per cui possiamo eliminare la variabile Occupazione*"
   ]
  },
  {
   "cell_type": "code",
   "execution_count": 11,
   "id": "2f7ea35e",
   "metadata": {},
   "outputs": [],
   "source": [
    "dataset.drop(\"Occupazione\", axis = 1, inplace = True)"
   ]
  },
  {
   "cell_type": "markdown",
   "id": "efce07d9",
   "metadata": {},
   "source": [
    "*Paese_Nativo*"
   ]
  },
  {
   "cell_type": "code",
   "execution_count": 12,
   "id": "2f7d2a0d",
   "metadata": {},
   "outputs": [
    {
     "data": {
      "text/plain": [
       " United-States                 29170\n",
       " Mexico                          643\n",
       " Philippines                     198\n",
       " Germany                         137\n",
       " Canada                          121\n",
       " Puerto-Rico                     114\n",
       " El-Salvador                     106\n",
       " India                           100\n",
       " Cuba                             95\n",
       " England                          90\n",
       " Jamaica                          81\n",
       " South                            80\n",
       " China                            75\n",
       " Italy                            73\n",
       " Dominican-Republic               70\n",
       " Vietnam                          67\n",
       " Guatemala                        64\n",
       " Japan                            62\n",
       " Poland                           60\n",
       " Columbia                         59\n",
       " Taiwan                           51\n",
       " Haiti                            44\n",
       " Iran                             43\n",
       " Portugal                         37\n",
       " Nicaragua                        34\n",
       " Peru                             31\n",
       " France                           29\n",
       " Greece                           29\n",
       " Ecuador                          28\n",
       " Ireland                          24\n",
       " Hong                             20\n",
       " Trinadad&Tobago                  19\n",
       " Cambodia                         19\n",
       " Laos                             18\n",
       " Thailand                         18\n",
       " Yugoslavia                       16\n",
       " Outlying-US(Guam-USVI-etc)       14\n",
       " Hungary                          13\n",
       " Honduras                         13\n",
       " Scotland                         12\n",
       " Holand-Netherlands                1\n",
       "Name: Paese_nativo, dtype: int64"
      ]
     },
     "execution_count": 12,
     "metadata": {},
     "output_type": "execute_result"
    }
   ],
   "source": [
    "dataset.Paese_nativo.value_counts() "
   ]
  },
  {
   "cell_type": "markdown",
   "id": "174cff62",
   "metadata": {},
   "source": [
    "###### E' possibile notare:\n",
    "* Una grossa quantità di categorie \n",
    "* Una disparità tra la categoria US e le altre \n",
    "\n",
    "##### Giungiamo alla conclusione di creare soli due categorie: United States e no United States\n"
   ]
  },
  {
   "cell_type": "code",
   "execution_count": 13,
   "id": "5b85c636",
   "metadata": {},
   "outputs": [],
   "source": [
    "#Creiamo una lista di valori \n",
    "Paese_Nativo = []\n",
    "for i in range(len(dataset)):\n",
    "    if dataset[\"Paese_nativo\"][i] == \" United-States\":\n",
    "        Paese_Nativo.append(\" United-States\")\n",
    "    elif dataset[\"Paese_nativo\"].isna()[i]:\n",
    "        Paese_Nativo.append(np.nan)\n",
    "    else:\n",
    "        Paese_Nativo.append(\" No United-States\")"
   ]
  },
  {
   "cell_type": "code",
   "execution_count": 14,
   "id": "f64b50ef",
   "metadata": {},
   "outputs": [],
   "source": [
    "#Aggiungiamo la lista di valori al dataset \n",
    "dataset[\"Paese_Nativo_cat\"] = Paese_Nativo"
   ]
  },
  {
   "cell_type": "code",
   "execution_count": 15,
   "id": "44a72a98",
   "metadata": {},
   "outputs": [],
   "source": [
    "#Cancelliamo quella precedente\n",
    "dataset.drop(\"Paese_nativo\",axis = 1, inplace = True)"
   ]
  },
  {
   "cell_type": "code",
   "execution_count": 16,
   "id": "8908b747",
   "metadata": {},
   "outputs": [
    {
     "name": "stdout",
     "output_type": "stream",
     "text": [
      "Il 91.22% delle osservazioni appartiene alla categoria \" United-States\" \n",
      "Il 8.78% delle osservazioni appartiene alla categoria \" No United-States\" \n"
     ]
    }
   ],
   "source": [
    "#Imputiamo i dati mancanti allo stesso modo di quanto fatto prima \n",
    "dataset = imputazione_proporzionale(dataset, \"Paese_Nativo_cat\")"
   ]
  },
  {
   "cell_type": "code",
   "execution_count": 17,
   "id": "ab50b52a",
   "metadata": {},
   "outputs": [
    {
     "data": {
      "text/plain": [
       "Age                     0\n",
       "Tipo_lavoro             0\n",
       "fnlwgt                  0\n",
       "Istruzione              0\n",
       "Anni_istruzione         0\n",
       "Stato_sociale           0\n",
       "Condizione_familiare    0\n",
       "Etnia                   0\n",
       "Genere                  0\n",
       "Cap_guadagnato          0\n",
       "Cap_perso               0\n",
       "Ore_settimanali         0\n",
       "Reddito                 0\n",
       "Paese_Nativo_cat        0\n",
       "dtype: int64"
      ]
     },
     "execution_count": 17,
     "metadata": {},
     "output_type": "execute_result"
    }
   ],
   "source": [
    "dataset.isna().sum() \n",
    "#Il dataset non ha più dati mancanti"
   ]
  },
  {
   "cell_type": "code",
   "execution_count": 18,
   "id": "db261e6a",
   "metadata": {},
   "outputs": [],
   "source": [
    "#%cd ../Datasets\n",
    "#dataset.to_csv(\"dataset_concat_disocc\")"
   ]
  }
 ],
 "metadata": {
  "kernelspec": {
   "display_name": "Python 3",
   "language": "python",
   "name": "python3"
  },
  "language_info": {
   "codemirror_mode": {
    "name": "ipython",
    "version": 3
   },
   "file_extension": ".py",
   "mimetype": "text/x-python",
   "name": "python",
   "nbconvert_exporter": "python",
   "pygments_lexer": "ipython3",
   "version": "3.8.8"
  }
 },
 "nbformat": 4,
 "nbformat_minor": 5
}
