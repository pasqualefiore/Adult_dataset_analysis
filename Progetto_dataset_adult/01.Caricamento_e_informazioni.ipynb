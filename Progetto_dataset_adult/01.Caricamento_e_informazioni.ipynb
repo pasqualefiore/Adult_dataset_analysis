{
 "cells": [
  {
   "cell_type": "code",
   "execution_count": 4,
   "id": "c833e5c8",
   "metadata": {},
   "outputs": [
    {
     "name": "stdout",
     "output_type": "stream",
     "text": [
      "C:\\Users\\pasqu\\Progetto_dataset_adult\\Utils\n"
     ]
    }
   ],
   "source": [
    "%cd Utils/"
   ]
  },
  {
   "cell_type": "markdown",
   "id": "d7380955",
   "metadata": {},
   "source": [
    "*Importiamo le librerie necessarie*"
   ]
  },
  {
   "cell_type": "code",
   "execution_count": 5,
   "id": "aa5e534b",
   "metadata": {},
   "outputs": [],
   "source": [
    "#Librerie DS\n",
    "import numpy as np\n",
    "import pandas as pd\n",
    "\n",
    "#Librerie proprie\n",
    "from Import_e_info import *"
   ]
  },
  {
   "cell_type": "markdown",
   "id": "852457b2",
   "metadata": {},
   "source": [
    "**Carichiamo il dataset da analizzare**"
   ]
  },
  {
   "cell_type": "code",
   "execution_count": 6,
   "id": "3037d0d5",
   "metadata": {},
   "outputs": [],
   "source": [
    "dataset = caricamento_dataset(\"../Datasets/adult.data\")"
   ]
  },
  {
   "cell_type": "code",
   "execution_count": 7,
   "id": "2fe035e6",
   "metadata": {},
   "outputs": [
    {
     "data": {
      "text/html": [
       "<div>\n",
       "<style scoped>\n",
       "    .dataframe tbody tr th:only-of-type {\n",
       "        vertical-align: middle;\n",
       "    }\n",
       "\n",
       "    .dataframe tbody tr th {\n",
       "        vertical-align: top;\n",
       "    }\n",
       "\n",
       "    .dataframe thead th {\n",
       "        text-align: right;\n",
       "    }\n",
       "</style>\n",
       "<table border=\"1\" class=\"dataframe\">\n",
       "  <thead>\n",
       "    <tr style=\"text-align: right;\">\n",
       "      <th></th>\n",
       "      <th>Age</th>\n",
       "      <th>Tipo_lavoro</th>\n",
       "      <th>fnlwgt</th>\n",
       "      <th>Istruzione</th>\n",
       "      <th>Anni_istruzione</th>\n",
       "      <th>Stato_sociale</th>\n",
       "      <th>Occupazione</th>\n",
       "      <th>Condizione_familiare</th>\n",
       "      <th>Etnia</th>\n",
       "      <th>Genere</th>\n",
       "      <th>Cap_guadagnato</th>\n",
       "      <th>Cap_perso</th>\n",
       "      <th>Ore_settimanali</th>\n",
       "      <th>Paese_nativo</th>\n",
       "      <th>Reddito</th>\n",
       "    </tr>\n",
       "  </thead>\n",
       "  <tbody>\n",
       "    <tr>\n",
       "      <th>0</th>\n",
       "      <td>39</td>\n",
       "      <td>State-gov</td>\n",
       "      <td>77516</td>\n",
       "      <td>Bachelors</td>\n",
       "      <td>13</td>\n",
       "      <td>Never-married</td>\n",
       "      <td>Adm-clerical</td>\n",
       "      <td>Not-in-family</td>\n",
       "      <td>White</td>\n",
       "      <td>Male</td>\n",
       "      <td>2174</td>\n",
       "      <td>0</td>\n",
       "      <td>40</td>\n",
       "      <td>United-States</td>\n",
       "      <td>&lt;=50K</td>\n",
       "    </tr>\n",
       "    <tr>\n",
       "      <th>1</th>\n",
       "      <td>50</td>\n",
       "      <td>Self-emp-not-inc</td>\n",
       "      <td>83311</td>\n",
       "      <td>Bachelors</td>\n",
       "      <td>13</td>\n",
       "      <td>Married-civ-spouse</td>\n",
       "      <td>Exec-managerial</td>\n",
       "      <td>Husband</td>\n",
       "      <td>White</td>\n",
       "      <td>Male</td>\n",
       "      <td>0</td>\n",
       "      <td>0</td>\n",
       "      <td>13</td>\n",
       "      <td>United-States</td>\n",
       "      <td>&lt;=50K</td>\n",
       "    </tr>\n",
       "    <tr>\n",
       "      <th>2</th>\n",
       "      <td>38</td>\n",
       "      <td>Private</td>\n",
       "      <td>215646</td>\n",
       "      <td>HS-grad</td>\n",
       "      <td>9</td>\n",
       "      <td>Divorced</td>\n",
       "      <td>Handlers-cleaners</td>\n",
       "      <td>Not-in-family</td>\n",
       "      <td>White</td>\n",
       "      <td>Male</td>\n",
       "      <td>0</td>\n",
       "      <td>0</td>\n",
       "      <td>40</td>\n",
       "      <td>United-States</td>\n",
       "      <td>&lt;=50K</td>\n",
       "    </tr>\n",
       "    <tr>\n",
       "      <th>3</th>\n",
       "      <td>53</td>\n",
       "      <td>Private</td>\n",
       "      <td>234721</td>\n",
       "      <td>11th</td>\n",
       "      <td>7</td>\n",
       "      <td>Married-civ-spouse</td>\n",
       "      <td>Handlers-cleaners</td>\n",
       "      <td>Husband</td>\n",
       "      <td>Black</td>\n",
       "      <td>Male</td>\n",
       "      <td>0</td>\n",
       "      <td>0</td>\n",
       "      <td>40</td>\n",
       "      <td>United-States</td>\n",
       "      <td>&lt;=50K</td>\n",
       "    </tr>\n",
       "    <tr>\n",
       "      <th>4</th>\n",
       "      <td>28</td>\n",
       "      <td>Private</td>\n",
       "      <td>338409</td>\n",
       "      <td>Bachelors</td>\n",
       "      <td>13</td>\n",
       "      <td>Married-civ-spouse</td>\n",
       "      <td>Prof-specialty</td>\n",
       "      <td>Wife</td>\n",
       "      <td>Black</td>\n",
       "      <td>Female</td>\n",
       "      <td>0</td>\n",
       "      <td>0</td>\n",
       "      <td>40</td>\n",
       "      <td>Cuba</td>\n",
       "      <td>&lt;=50K</td>\n",
       "    </tr>\n",
       "    <tr>\n",
       "      <th>...</th>\n",
       "      <td>...</td>\n",
       "      <td>...</td>\n",
       "      <td>...</td>\n",
       "      <td>...</td>\n",
       "      <td>...</td>\n",
       "      <td>...</td>\n",
       "      <td>...</td>\n",
       "      <td>...</td>\n",
       "      <td>...</td>\n",
       "      <td>...</td>\n",
       "      <td>...</td>\n",
       "      <td>...</td>\n",
       "      <td>...</td>\n",
       "      <td>...</td>\n",
       "      <td>...</td>\n",
       "    </tr>\n",
       "    <tr>\n",
       "      <th>32556</th>\n",
       "      <td>27</td>\n",
       "      <td>Private</td>\n",
       "      <td>257302</td>\n",
       "      <td>Assoc-acdm</td>\n",
       "      <td>12</td>\n",
       "      <td>Married-civ-spouse</td>\n",
       "      <td>Tech-support</td>\n",
       "      <td>Wife</td>\n",
       "      <td>White</td>\n",
       "      <td>Female</td>\n",
       "      <td>0</td>\n",
       "      <td>0</td>\n",
       "      <td>38</td>\n",
       "      <td>United-States</td>\n",
       "      <td>&lt;=50K</td>\n",
       "    </tr>\n",
       "    <tr>\n",
       "      <th>32557</th>\n",
       "      <td>40</td>\n",
       "      <td>Private</td>\n",
       "      <td>154374</td>\n",
       "      <td>HS-grad</td>\n",
       "      <td>9</td>\n",
       "      <td>Married-civ-spouse</td>\n",
       "      <td>Machine-op-inspct</td>\n",
       "      <td>Husband</td>\n",
       "      <td>White</td>\n",
       "      <td>Male</td>\n",
       "      <td>0</td>\n",
       "      <td>0</td>\n",
       "      <td>40</td>\n",
       "      <td>United-States</td>\n",
       "      <td>&gt;50K</td>\n",
       "    </tr>\n",
       "    <tr>\n",
       "      <th>32558</th>\n",
       "      <td>58</td>\n",
       "      <td>Private</td>\n",
       "      <td>151910</td>\n",
       "      <td>HS-grad</td>\n",
       "      <td>9</td>\n",
       "      <td>Widowed</td>\n",
       "      <td>Adm-clerical</td>\n",
       "      <td>Unmarried</td>\n",
       "      <td>White</td>\n",
       "      <td>Female</td>\n",
       "      <td>0</td>\n",
       "      <td>0</td>\n",
       "      <td>40</td>\n",
       "      <td>United-States</td>\n",
       "      <td>&lt;=50K</td>\n",
       "    </tr>\n",
       "    <tr>\n",
       "      <th>32559</th>\n",
       "      <td>22</td>\n",
       "      <td>Private</td>\n",
       "      <td>201490</td>\n",
       "      <td>HS-grad</td>\n",
       "      <td>9</td>\n",
       "      <td>Never-married</td>\n",
       "      <td>Adm-clerical</td>\n",
       "      <td>Own-child</td>\n",
       "      <td>White</td>\n",
       "      <td>Male</td>\n",
       "      <td>0</td>\n",
       "      <td>0</td>\n",
       "      <td>20</td>\n",
       "      <td>United-States</td>\n",
       "      <td>&lt;=50K</td>\n",
       "    </tr>\n",
       "    <tr>\n",
       "      <th>32560</th>\n",
       "      <td>52</td>\n",
       "      <td>Self-emp-inc</td>\n",
       "      <td>287927</td>\n",
       "      <td>HS-grad</td>\n",
       "      <td>9</td>\n",
       "      <td>Married-civ-spouse</td>\n",
       "      <td>Exec-managerial</td>\n",
       "      <td>Wife</td>\n",
       "      <td>White</td>\n",
       "      <td>Female</td>\n",
       "      <td>15024</td>\n",
       "      <td>0</td>\n",
       "      <td>40</td>\n",
       "      <td>United-States</td>\n",
       "      <td>&gt;50K</td>\n",
       "    </tr>\n",
       "  </tbody>\n",
       "</table>\n",
       "<p>32561 rows × 15 columns</p>\n",
       "</div>"
      ],
      "text/plain": [
       "       Age        Tipo_lavoro  fnlwgt   Istruzione  Anni_istruzione  \\\n",
       "0       39          State-gov   77516    Bachelors               13   \n",
       "1       50   Self-emp-not-inc   83311    Bachelors               13   \n",
       "2       38            Private  215646      HS-grad                9   \n",
       "3       53            Private  234721         11th                7   \n",
       "4       28            Private  338409    Bachelors               13   \n",
       "...    ...                ...     ...          ...              ...   \n",
       "32556   27            Private  257302   Assoc-acdm               12   \n",
       "32557   40            Private  154374      HS-grad                9   \n",
       "32558   58            Private  151910      HS-grad                9   \n",
       "32559   22            Private  201490      HS-grad                9   \n",
       "32560   52       Self-emp-inc  287927      HS-grad                9   \n",
       "\n",
       "             Stato_sociale         Occupazione Condizione_familiare   Etnia  \\\n",
       "0            Never-married        Adm-clerical        Not-in-family   White   \n",
       "1       Married-civ-spouse     Exec-managerial              Husband   White   \n",
       "2                 Divorced   Handlers-cleaners        Not-in-family   White   \n",
       "3       Married-civ-spouse   Handlers-cleaners              Husband   Black   \n",
       "4       Married-civ-spouse      Prof-specialty                 Wife   Black   \n",
       "...                    ...                 ...                  ...     ...   \n",
       "32556   Married-civ-spouse        Tech-support                 Wife   White   \n",
       "32557   Married-civ-spouse   Machine-op-inspct              Husband   White   \n",
       "32558              Widowed        Adm-clerical            Unmarried   White   \n",
       "32559        Never-married        Adm-clerical            Own-child   White   \n",
       "32560   Married-civ-spouse     Exec-managerial                 Wife   White   \n",
       "\n",
       "        Genere  Cap_guadagnato  Cap_perso  Ore_settimanali    Paese_nativo  \\\n",
       "0         Male            2174          0               40   United-States   \n",
       "1         Male               0          0               13   United-States   \n",
       "2         Male               0          0               40   United-States   \n",
       "3         Male               0          0               40   United-States   \n",
       "4       Female               0          0               40            Cuba   \n",
       "...        ...             ...        ...              ...             ...   \n",
       "32556   Female               0          0               38   United-States   \n",
       "32557     Male               0          0               40   United-States   \n",
       "32558   Female               0          0               40   United-States   \n",
       "32559     Male               0          0               20   United-States   \n",
       "32560   Female           15024          0               40   United-States   \n",
       "\n",
       "      Reddito  \n",
       "0       <=50K  \n",
       "1       <=50K  \n",
       "2       <=50K  \n",
       "3       <=50K  \n",
       "4       <=50K  \n",
       "...       ...  \n",
       "32556   <=50K  \n",
       "32557    >50K  \n",
       "32558   <=50K  \n",
       "32559   <=50K  \n",
       "32560    >50K  \n",
       "\n",
       "[32561 rows x 15 columns]"
      ]
     },
     "execution_count": 7,
     "metadata": {},
     "output_type": "execute_result"
    }
   ],
   "source": [
    "dataset"
   ]
  },
  {
   "cell_type": "markdown",
   "id": "0d08e034",
   "metadata": {},
   "source": [
    "**Osserviamo l'intero dataset**"
   ]
  },
  {
   "cell_type": "code",
   "execution_count": 8,
   "id": "2edb664d",
   "metadata": {},
   "outputs": [],
   "source": [
    "info = informazioni_dataset(dataset)"
   ]
  },
  {
   "cell_type": "code",
   "execution_count": 9,
   "id": "4fba7607",
   "metadata": {},
   "outputs": [
    {
     "name": "stdout",
     "output_type": "stream",
     "text": [
      "Ci sono 6 variabili numeriche\n",
      "Ci sono 9 variabili categoriche\n"
     ]
    }
   ],
   "source": [
    "tipo = info.tipo_variabili(dataset)"
   ]
  },
  {
   "cell_type": "markdown",
   "id": "bef7d7e4",
   "metadata": {},
   "source": [
    "**Vediamo se ci sono dati mancanti**"
   ]
  },
  {
   "cell_type": "code",
   "execution_count": 10,
   "id": "1d30bd17",
   "metadata": {},
   "outputs": [
    {
     "name": "stdout",
     "output_type": "stream",
     "text": [
      "Ci sono 1836 dati mancanti per la variabile Tipo_lavoro\n",
      "Ci sono 1843 dati mancanti per la variabile Occupazione\n",
      "Ci sono 583 dati mancanti per la variabile Paese_nativo\n"
     ]
    }
   ],
   "source": [
    "dati_mancanti = info.dati_mancanti(dataset)"
   ]
  },
  {
   "cell_type": "code",
   "execution_count": 11,
   "id": "7ea00ce4",
   "metadata": {},
   "outputs": [
    {
     "data": {
      "text/plain": [
       " <=50K    0.895969\n",
       " >50K     0.104031\n",
       "Name: Reddito, dtype: float64"
      ]
     },
     "execution_count": 11,
     "metadata": {},
     "output_type": "execute_result"
    }
   ],
   "source": [
    "dataset[dataset[\"Tipo_lavoro\"].isna()][\"Reddito\"].value_counts()/1836"
   ]
  },
  {
   "cell_type": "code",
   "execution_count": 12,
   "id": "ec5aa97e",
   "metadata": {},
   "outputs": [
    {
     "data": {
      "text/plain": [
       " <=50K    0.75919\n",
       " >50K     0.24081\n",
       "Name: Reddito, dtype: float64"
      ]
     },
     "execution_count": 12,
     "metadata": {},
     "output_type": "execute_result"
    }
   ],
   "source": [
    "dataset[\"Reddito\"].value_counts()/len(dataset)"
   ]
  }
 ],
 "metadata": {
  "kernelspec": {
   "display_name": "Python 3",
   "language": "python",
   "name": "python3"
  },
  "language_info": {
   "codemirror_mode": {
    "name": "ipython",
    "version": 3
   },
   "file_extension": ".py",
   "mimetype": "text/x-python",
   "name": "python",
   "nbconvert_exporter": "python",
   "pygments_lexer": "ipython3",
   "version": "3.8.8"
  }
 },
 "nbformat": 4,
 "nbformat_minor": 5
}
