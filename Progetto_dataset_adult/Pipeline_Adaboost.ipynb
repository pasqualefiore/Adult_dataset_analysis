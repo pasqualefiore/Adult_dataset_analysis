{
 "cells": [
  {
   "cell_type": "code",
   "execution_count": 1,
   "id": "0ccdf9ae",
   "metadata": {},
   "outputs": [
    {
     "name": "stdout",
     "output_type": "stream",
     "text": [
      "C:\\Users\\pasqu\\Progetto_dataset_adult\\Utils\n"
     ]
    }
   ],
   "source": [
    "%cd Utils"
   ]
  },
  {
   "cell_type": "code",
   "execution_count": 2,
   "id": "fd694840",
   "metadata": {},
   "outputs": [],
   "source": [
    "from Modello import *"
   ]
  },
  {
   "cell_type": "code",
   "execution_count": 3,
   "id": "71c6c362",
   "metadata": {},
   "outputs": [
    {
     "name": "stdout",
     "output_type": "stream",
     "text": [
      "Il primo passaggio prevede la suddivisione del dataset in X e Y\n",
      "--------------------------------------------------------------------------------\n",
      "Il secondo passaggio prevede la trasformazione opportune delle diverse variabili.\n",
      "In particolare\n",
      "ColumnTransformer(remainder='passthrough',\n",
      "                  transformers=[('ohe',\n",
      "                                 OneHotEncoder(drop='first',\n",
      "                                               dtype=<class 'int'>,\n",
      "                                               sparse=False),\n",
      "                                 ['Tipo_lavoro', 'Stato_sociale', 'Etnia',\n",
      "                                  'Genere', 'Paese_Nativo_cat']),\n",
      "                                ('minmax', MinMaxScaler(), []),\n",
      "                                ('oe',\n",
      "                                 OrdinalEncoder(categories=[[' No-Diploma',\n",
      "                                                             ' HS-grad',\n",
      "                                                             ' Some-college',\n",
      "                                                             ' Assoc-voc',\n",
      "                                                             ' Assoc-acdm',\n",
      "                                                             ' Prof-school',\n",
      "                                                             ' Bachelors',\n",
      "                                                             ' Masters',\n",
      "                                                             ' Doctorate']],\n",
      "                                                dtype=<class 'int'>),\n",
      "                                 ['Istruzione'])])\n",
      "--------------------------------------------------------------------------------\n",
      "Il terzo passaggio prevede la suddivisione del dataset in train e test.\n",
      "--------------------------------------------------------------------------------\n",
      "Dopo la suddivisione, utilizziamo l'Adaboost con gli iperparametri ottimizzati \n",
      "precedentemente attraverso una GridSearch cross validata\n",
      "--------------------------------------------------------------------------------\n",
      "L'accuracy sul test set è pari a 0.8281765834932822\n",
      "Report completo sul test\n",
      "              precision    recall  f1-score   support\n",
      "\n",
      "           0       0.86      0.92      0.89      9888\n",
      "           1       0.68      0.55      0.61      3137\n",
      "\n",
      "    accuracy                           0.83     13025\n",
      "   macro avg       0.77      0.73      0.75     13025\n",
      "weighted avg       0.82      0.83      0.82     13025\n",
      "\n",
      "Di seguito la matrice di confusione:\n",
      "[[9071  817]\n",
      " [1421 1716]]\n"
     ]
    },
    {
     "data": {
      "image/png": "[encoded data removed]",
      "text/plain": [
       "<Figure size 576x720 with 1 Axes>"
      ]
     },
     "metadata": {
      "needs_background": "light"
     },
     "output_type": "display_data"
    }
   ],
   "source": [
    "Ada, matrice_confusione = Ada_pipeline(\"../Datasets/dataset_dopo_descrit\", \"Reddito\")"
   ]
  }
 ],
 "metadata": {
  "kernelspec": {
   "display_name": "Python 3",
   "language": "python",
   "name": "python3"
  },
  "language_info": {
   "codemirror_mode": {
    "name": "ipython",
    "version": 3
   },
   "file_extension": ".py",
   "mimetype": "text/x-python",
   "name": "python",
   "nbconvert_exporter": "python",
   "pygments_lexer": "ipython3",
   "version": "3.8.8"
  }
 },
 "nbformat": 4,
 "nbformat_minor": 5
}
